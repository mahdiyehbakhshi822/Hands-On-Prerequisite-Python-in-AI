{
 "cells": [
  {
   "cell_type": "markdown",
   "id": "3901c001",
   "metadata": {},
   "source": [
    "## Question 1\n"
   ]
  },
  {
   "cell_type": "markdown",
   "id": "12b5f593",
   "metadata": {},
   "source": [
    "1. Product information includes name and price."
   ]
  },
  {
   "cell_type": "code",
   "execution_count": null,
   "id": "94d86900",
   "metadata": {},
   "outputs": [],
   "source": [
    "name = []\n",
    "price = []"
   ]
  },
  {
   "cell_type": "markdown",
   "id": "0ba024bb",
   "metadata": {},
   "source": [
    "2. Use list to save information"
   ]
  },
  {
   "cell_type": "code",
   "execution_count": null,
   "id": "eb13f3aa",
   "metadata": {},
   "outputs": [],
   "source": []
  },
  {
   "cell_type": "markdown",
   "id": "1d8348ed",
   "metadata": {},
   "source": [
    "3. We do not have duplicate product name"
   ]
  },
  {
   "cell_type": "code",
   "execution_count": null,
   "id": "bc21a10d",
   "metadata": {},
   "outputs": [],
   "source": []
  },
  {
   "cell_type": "markdown",
   "id": "5fcb8cb4",
   "metadata": {},
   "source": [
    "4. This project includes sections for adding, deleting, editing, detail and searching by product name."
   ]
  },
  {
   "cell_type": "code",
   "execution_count": null,
   "id": "562284d7",
   "metadata": {},
   "outputs": [],
   "source": []
  },
  {
   "cell_type": "markdown",
   "id": "282e2a1a",
   "metadata": {},
   "source": [
    "6. For the detail section, display the total number of products, the average price, the most expensive and cheapest product."
   ]
  },
  {
   "cell_type": "code",
   "execution_count": null,
   "id": "1450d1b4",
   "metadata": {},
   "outputs": [],
   "source": []
  },
  {
   "cell_type": "markdown",
   "id": "ba3d284e",
   "metadata": {},
   "source": [
    "5. The program should continue until the user enters \"exit\""
   ]
  },
  {
   "cell_type": "code",
   "execution_count": 1,
   "id": "c4a6de0d",
   "metadata": {},
   "outputs": [
    {
     "data": {
      "text/plain": [
       "15"
      ]
     },
     "execution_count": 1,
     "metadata": {},
     "output_type": "execute_result"
    }
   ],
   "source": [
    "s = [1,2,3,4,5]\n",
    "sum(s)"
   ]
  },
  {
   "cell_type": "code",
   "execution_count": 5,
   "id": "54a95977",
   "metadata": {},
   "outputs": [],
   "source": [
    "animals = ['cat', 'dog', 'rabbit', 'horse']\n",
    "\n",
    "# get the index of 'dog'\n",
    "index = s.index(max(s))"
   ]
  },
  {
   "cell_type": "code",
   "execution_count": 6,
   "id": "b50cd3ee",
   "metadata": {},
   "outputs": [
    {
     "data": {
      "text/plain": [
       "4"
      ]
     },
     "execution_count": 6,
     "metadata": {},
     "output_type": "execute_result"
    }
   ],
   "source": [
    "index"
   ]
  },
  {
   "cell_type": "code",
   "execution_count": null,
   "id": "d9044a33",
   "metadata": {},
   "outputs": [],
   "source": []
  }
 ],
 "metadata": {
  "kernelspec": {
   "display_name": "Python 3 (ipykernel)",
   "language": "python",
   "name": "python3"
  },
  "language_info": {
   "codemirror_mode": {
    "name": "ipython",
    "version": 3
   },
   "file_extension": ".py",
   "mimetype": "text/x-python",
   "name": "python",
   "nbconvert_exporter": "python",
   "pygments_lexer": "ipython3",
   "version": "3.9.13"
  }
 },
 "nbformat": 4,
 "nbformat_minor": 5
}
