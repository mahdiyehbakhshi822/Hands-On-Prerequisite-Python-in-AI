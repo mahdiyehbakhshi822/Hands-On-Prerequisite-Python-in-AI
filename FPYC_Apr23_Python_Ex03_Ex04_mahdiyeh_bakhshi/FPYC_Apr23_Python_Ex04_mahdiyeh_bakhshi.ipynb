{
 "cells": [
  {
   "cell_type": "markdown",
   "id": "bf844e05",
   "metadata": {},
   "source": [
    "## Question 1 (Loop)\n"
   ]
  },
  {
   "cell_type": "markdown",
   "id": "79eda948",
   "metadata": {},
   "source": [
    "Display the following pattern in the output.\n",
    "P\n",
    "\n",
    "PY\n",
    "\n",
    "PYT\n",
    "\n",
    "PYTH\n",
    "\n",
    "PYTHO\n",
    "\n",
    "PYTHON"
   ]
  },
  {
   "cell_type": "code",
   "execution_count": 1,
   "id": "b87497e2",
   "metadata": {},
   "outputs": [
    {
     "name": "stdout",
     "output_type": "stream",
     "text": [
      "\n",
      "P\n",
      "PY\n",
      "PYT\n",
      "PYTH\n",
      "PYTHO\n",
      "PYTHON\n"
     ]
    }
   ],
   "source": [
    "str1 = \"PYTHON\"\n",
    "for i in range(len(str1)+1):\n",
    "    print(str1[:i])"
   ]
  },
  {
   "cell_type": "markdown",
   "id": "23a87ee1",
   "metadata": {},
   "source": [
    "## Question 2 (Loop)\n"
   ]
  },
  {
   "cell_type": "markdown",
   "id": "a7ec2646",
   "metadata": {},
   "source": [
    "Find the number of vowel characters (a, e, i, o, u) in the text below.\n",
    "\n",
    "“Python is a high-level, general-purpose programming language.”\n"
   ]
  },
  {
   "cell_type": "code",
   "execution_count": 10,
   "id": "cc33326d",
   "metadata": {},
   "outputs": [
    {
     "data": {
      "text/plain": [
       "19"
      ]
     },
     "execution_count": 10,
     "metadata": {},
     "output_type": "execute_result"
    }
   ],
   "source": [
    "\n",
    "str2 = \"Python is a high-level, general-purpose programming language.\"\n",
    "a = str2.count(\"a\")\n",
    "e = str2.count(\"e\")\n",
    "i = str2.count(\"i\")\n",
    "o = str2.count(\"o\")\n",
    "u = str2.count(\"u\")\n",
    "s= a+e+i+o+u\n",
    "s"
   ]
  },
  {
   "cell_type": "code",
   "execution_count": 11,
   "id": "b042b3c6",
   "metadata": {},
   "outputs": [
    {
     "data": {
      "text/plain": [
       "19"
      ]
     },
     "execution_count": 11,
     "metadata": {},
     "output_type": "execute_result"
    }
   ],
   "source": [
    "str2 = \"Python is a high-level, general-purpose programming language.\"\n",
    "count = 0\n",
    "list1 = [\"a\",\"e\",\"i\",\"o\",\"u\"]\n",
    "for i in list1:\n",
    "    count += str2.count(i)\n",
    "count\n",
    "    "
   ]
  },
  {
   "cell_type": "markdown",
   "id": "63756daf",
   "metadata": {},
   "source": [
    "## Question 3 (Loop)\n",
    "Get a number from the input and display the following result.\n",
    "Input: 5\n",
    "\n",
    "Output: 5 * 0 = 0\n",
    "\n",
    "5 * 2 = 10\n",
    "\n",
    "5 * 4 = 20\n",
    "\n",
    "5 * 6 = 30\n",
    "\n",
    "5 * 8 = 40\n",
    "\n",
    "5 * 10 = 50\n"
   ]
  },
  {
   "cell_type": "code",
   "execution_count": 2,
   "id": "fdc07d4f",
   "metadata": {},
   "outputs": [
    {
     "name": "stdout",
     "output_type": "stream",
     "text": [
      "please enter a number : 5\n",
      "5 * 0 = 0\n",
      "5 * 2 = 10\n",
      "5 * 4 = 20\n",
      "5 * 6 = 30\n",
      "5 * 8 = 40\n",
      "5 * 10 = 50\n"
     ]
    }
   ],
   "source": [
    "num = int(input(\"please enter a number : \"))\n",
    "\n",
    "for i in range(2*num + 1):\n",
    "    if i % 2 == 0:\n",
    "        print(f\"{num} * {i} = {num*i}\")\n",
    "    "
   ]
  },
  {
   "cell_type": "code",
   "execution_count": 4,
   "id": "85fd654c",
   "metadata": {},
   "outputs": [
    {
     "name": "stdout",
     "output_type": "stream",
     "text": [
      "please enter a number : 5\n",
      "5 * 0 = 0\n",
      "5 * 2 = 10\n",
      "5 * 4 = 20\n",
      "5 * 6 = 30\n",
      "5 * 8 = 40\n",
      "5 * 10 = 50\n"
     ]
    }
   ],
   "source": [
    "num = int(input(\"please enter a number : \"))\n",
    "l1 = [i for i in range(2*num+1) if i % 2 ==0]\n",
    "for i in l1:\n",
    "    print(f\"{num} * {i} = {num*i}\")"
   ]
  },
  {
   "cell_type": "markdown",
   "id": "c6174cae",
   "metadata": {},
   "source": [
    "## Question 4 (Loop)\n"
   ]
  },
  {
   "cell_type": "markdown",
   "id": "6ea7a0ae",
   "metadata": {},
   "source": [
    "Get a number from the input and display the following result.\n",
    "Input: 5\n",
    "\n",
    "Output: 5 / 0 = Error\n",
    "\n",
    "5 / 1 = 5\n",
    "\n",
    "5 / 2 = 2\n",
    "\n",
    "5 / 3 = 1\n",
    "\n",
    "5 / 4 = 1"
   ]
  },
  {
   "cell_type": "code",
   "execution_count": 7,
   "id": "fa8c1966",
   "metadata": {},
   "outputs": [
    {
     "name": "stdout",
     "output_type": "stream",
     "text": [
      "please enter a number : 5\n",
      "5 / 0 = Error\n",
      "5 / 1 = 5\n",
      "5 / 2 = 2\n",
      "5 / 3 = 1\n",
      "5 / 4 = 1\n"
     ]
    }
   ],
   "source": [
    "num = int(input(\"please enter a number : \"))\n",
    "for i in range(num):\n",
    "    try:\n",
    "        print(f\"{num} / {i} = {num//i}\")\n",
    "    except:\n",
    "        print(f\"{num} / {i} = Error\")"
   ]
  },
  {
   "cell_type": "code",
   "execution_count": null,
   "id": "af63196c",
   "metadata": {},
   "outputs": [],
   "source": []
  }
 ],
 "metadata": {
  "kernelspec": {
   "display_name": "Python 3 (ipykernel)",
   "language": "python",
   "name": "python3"
  },
  "language_info": {
   "codemirror_mode": {
    "name": "ipython",
    "version": 3
   },
   "file_extension": ".py",
   "mimetype": "text/x-python",
   "name": "python",
   "nbconvert_exporter": "python",
   "pygments_lexer": "ipython3",
   "version": "3.9.13"
  }
 },
 "nbformat": 4,
 "nbformat_minor": 5
}
