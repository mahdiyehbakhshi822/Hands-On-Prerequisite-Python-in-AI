{
 "cells": [
  {
   "cell_type": "markdown",
   "id": "21a42f5c",
   "metadata": {},
   "source": [
    "## Question 1 (String)\n"
   ]
  },
  {
   "cell_type": "markdown",
   "id": "af21a84b",
   "metadata": {},
   "source": [
    "Get a string from input and display the first, last and middle characters.\n",
    "\n",
    "Points:\n",
    "\n",
    " If the length of the string is even, display the middle two characters.\n",
    "\n",
    " The output is exactly the same as the example below"
   ]
  },
  {
   "cell_type": "markdown",
   "id": "e6520363",
   "metadata": {},
   "source": [
    "Input: “Python”\n",
    "\n",
    "Output: First character of “Python” is: \n",
    "\n",
    "Last character of “Python” is: n\n",
    "\n",
    "Middle characters of “Python” is: th"
   ]
  },
  {
   "cell_type": "code",
   "execution_count": 9,
   "id": "572c9baa",
   "metadata": {},
   "outputs": [
    {
     "name": "stdout",
     "output_type": "stream",
     "text": [
      "please string : python\n",
      "First character of 'python'is : p \n",
      "last character of 'python'is : n \n",
      "Middle character of 'python'is : th \n"
     ]
    }
   ],
   "source": [
    "str_input = input(\"please string : \")\n",
    "print(f\"First character of '{str_input}'is : {str_input[0]} \")\n",
    "print(f\"last character of '{str_input}'is : {str_input[-1]} \")\n",
    "if len(str_input) % 2 !=0:\n",
    "    print(f\"middle character of '{str_input}'is : {str_input[len(str_input)//2]} \")\n",
    "else:\n",
    "    print(f\"Middle character of '{str_input}'is : {str_input[len(str_input)//2-1:(len(str_input)//2)+1]} \")"
   ]
  },
  {
   "cell_type": "markdown",
   "id": "2d3f6884",
   "metadata": {},
   "source": [
    "## Question 2 (String)"
   ]
  },
  {
   "cell_type": "markdown",
   "id": "a1816a7f",
   "metadata": {},
   "source": [
    "Get three strings from the input and display in the output any one whose length is\n",
    "greater than the average length of the three strings."
   ]
  },
  {
   "cell_type": "code",
   "execution_count": 11,
   "id": "59336985",
   "metadata": {},
   "outputs": [
    {
     "name": "stdout",
     "output_type": "stream",
     "text": [
      "enter str1 : python\n",
      "enter str2 : c\n",
      "enter str3 : java\n",
      "=========\n",
      "python\n",
      "=========\n"
     ]
    }
   ],
   "source": [
    "str1 = input(\"enter str1 : \")\n",
    "str2 = input(\"enter str2 : \")\n",
    "str3 = input(\"enter str3 : \")\n",
    "avr = (len(str1)+len(str2)+len(str2))/3\n",
    "print(\"=========\")\n",
    "if len(str1)>avr:\n",
    "    print(str1)\n",
    "elif len(str2)>avr:\n",
    "    print(str2)\n",
    "else:\n",
    "    print(str3)\n",
    "print(\"=========\")   \n"
   ]
  },
  {
   "cell_type": "markdown",
   "id": "f0529f2d",
   "metadata": {},
   "source": [
    "## Question 3 (String)\n"
   ]
  },
  {
   "cell_type": "markdown",
   "id": "864a110b",
   "metadata": {},
   "source": [
    "Get two strings from the input, if the second string is present in the first string,\n",
    "remove it, otherwise add the second string at the start and end of the first string.\n",
    "Display the new string in the output."
   ]
  },
  {
   "cell_type": "code",
   "execution_count": 35,
   "id": "13277435",
   "metadata": {},
   "outputs": [
    {
     "name": "stdout",
     "output_type": "stream",
     "text": [
      "enter str1 : python\n",
      "enter str2 : yt\n",
      "phon\n"
     ]
    }
   ],
   "source": [
    "str1 = input(\"enter str1 : \")\n",
    "str2 = input(\"enter str2 : \")\n",
    "if str2 in str1:\n",
    "    s1=str1.replace(str2,\"\")\n",
    "    print(s)\n",
    "else:\n",
    "    s2 = str2+str1+str2\n",
    "    print(s2)"
   ]
  },
  {
   "cell_type": "markdown",
   "id": "103285a1",
   "metadata": {},
   "source": [
    "## Question 4 (String)\n"
   ]
  },
  {
   "cell_type": "markdown",
   "id": "5919777f",
   "metadata": {},
   "source": [
    "Find four new methods for strings.\n"
   ]
  },
  {
   "cell_type": "code",
   "execution_count": 15,
   "id": "fec670c5",
   "metadata": {},
   "outputs": [],
   "source": [
    "# https://www.w3schools.com/python/python_ref_string.asp\n",
    "#1. endswith()\tReturns true if the string ends with the specified value\n",
    "#2. isalpha()\tReturns True if all characters in the string are in the alphabet\n",
    "#3. replace()\tReturns a string where a specified value is replaced with a specified value\n",
    "#4. isspace()\tReturns True if all characters in the string are whitespaces\n",
    "#5. casefold()\tConverts string into lower case\n",
    "#6. encode()\tReturns an encoded version of the string\n",
    "#7. expandtabs()\tSets the tab size of the string\n",
    "#8. isalnum()\tReturns True if all characters in the string are alphanumeric\n",
    "str11 = \"python\""
   ]
  },
  {
   "cell_type": "code",
   "execution_count": 16,
   "id": "81192e44",
   "metadata": {},
   "outputs": [
    {
     "data": {
      "text/plain": [
       "True"
      ]
     },
     "execution_count": 16,
     "metadata": {},
     "output_type": "execute_result"
    }
   ],
   "source": [
    "str11.endswith(\"n\")"
   ]
  },
  {
   "cell_type": "code",
   "execution_count": 17,
   "id": "59d59825",
   "metadata": {},
   "outputs": [
    {
     "data": {
      "text/plain": [
       "True"
      ]
     },
     "execution_count": 17,
     "metadata": {},
     "output_type": "execute_result"
    }
   ],
   "source": [
    "str11.isalpha()"
   ]
  },
  {
   "cell_type": "code",
   "execution_count": 18,
   "id": "782efd16",
   "metadata": {},
   "outputs": [
    {
     "data": {
      "text/plain": [
       "'pqqon'"
      ]
     },
     "execution_count": 18,
     "metadata": {},
     "output_type": "execute_result"
    }
   ],
   "source": [
    "str11.replace(\"yth\",\"qq\")"
   ]
  },
  {
   "cell_type": "code",
   "execution_count": 19,
   "id": "95df9345",
   "metadata": {},
   "outputs": [
    {
     "data": {
      "text/plain": [
       "False"
      ]
     },
     "execution_count": 19,
     "metadata": {},
     "output_type": "execute_result"
    }
   ],
   "source": [
    "str11.isspace()"
   ]
  },
  {
   "cell_type": "code",
   "execution_count": 22,
   "id": "002196c8",
   "metadata": {},
   "outputs": [
    {
     "data": {
      "text/plain": [
       "True"
      ]
     },
     "execution_count": 22,
     "metadata": {},
     "output_type": "execute_result"
    }
   ],
   "source": [
    "\"\\t\".isspace()"
   ]
  },
  {
   "cell_type": "code",
   "execution_count": 25,
   "id": "2840a564",
   "metadata": {},
   "outputs": [
    {
     "data": {
      "text/plain": [
       "'python'"
      ]
     },
     "execution_count": 25,
     "metadata": {},
     "output_type": "execute_result"
    }
   ],
   "source": [
    "\"PYTHON\".casefold()"
   ]
  },
  {
   "cell_type": "code",
   "execution_count": 26,
   "id": "0a29ad73",
   "metadata": {},
   "outputs": [
    {
     "data": {
      "text/plain": [
       "b'python'"
      ]
     },
     "execution_count": 26,
     "metadata": {},
     "output_type": "execute_result"
    }
   ],
   "source": [
    "str11.encode()"
   ]
  },
  {
   "cell_type": "code",
   "execution_count": 29,
   "id": "4a7bc975",
   "metadata": {},
   "outputs": [
    {
     "data": {
      "text/plain": [
       "True"
      ]
     },
     "execution_count": 29,
     "metadata": {},
     "output_type": "execute_result"
    }
   ],
   "source": [
    "\"str11\".isalnum()"
   ]
  },
  {
   "cell_type": "code",
   "execution_count": null,
   "id": "9ccdfce6",
   "metadata": {},
   "outputs": [],
   "source": []
  }
 ],
 "metadata": {
  "kernelspec": {
   "display_name": "Python 3 (ipykernel)",
   "language": "python",
   "name": "python3"
  },
  "language_info": {
   "codemirror_mode": {
    "name": "ipython",
    "version": 3
   },
   "file_extension": ".py",
   "mimetype": "text/x-python",
   "name": "python",
   "nbconvert_exporter": "python",
   "pygments_lexer": "ipython3",
   "version": "3.9.13"
  }
 },
 "nbformat": 4,
 "nbformat_minor": 5
}
