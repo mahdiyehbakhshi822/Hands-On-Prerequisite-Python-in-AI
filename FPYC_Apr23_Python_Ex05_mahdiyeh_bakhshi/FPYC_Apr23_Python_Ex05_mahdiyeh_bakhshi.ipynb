{
 "cells": [
  {
   "cell_type": "markdown",
   "id": "2089df96",
   "metadata": {},
   "source": [
    "## Question 1 (List)\n",
    " Based on the lists below, answer the questions\n",
    " \n",
    "my_list = [2, 15, 0,”python”, 4.6,”java”,90, 10]\n",
    "\n",
    "1. Print first and last items of the list\n",
    "\n",
    "2. Remove first and last items of the list\n",
    "\n",
    "3. Remove 90 and 300 from the list\n",
    "\n",
    "4. Add 5 between 15 and 0\n",
    "\n",
    "5. Edit “Js” with “python”\n",
    "\n",
    "6. Add 50 at the end of the list\n",
    "\n",
    "7. Search for 0 in the list and if it is in the list print \"yes\" else print \"no“\n"
   ]
  },
  {
   "cell_type": "code",
   "execution_count": 1,
   "id": "5a61dd5d",
   "metadata": {},
   "outputs": [
    {
     "name": "stdout",
     "output_type": "stream",
     "text": [
      "first item of list : 2\n",
      "last item of list : 10\n"
     ]
    }
   ],
   "source": [
    "my_list = [2, 15, 0,\"python\", 4.6,\"java\",90, 10]\n",
    "#Print first and last items of the list\n",
    "print(f\"first item of list : {my_list[0]}\")\n",
    "print(f\"last item of list : {my_list[-1]}\")"
   ]
  },
  {
   "cell_type": "code",
   "execution_count": 2,
   "id": "3e4ec0b6",
   "metadata": {},
   "outputs": [
    {
     "name": "stdout",
     "output_type": "stream",
     "text": [
      "my list after remove first and last item : [15, 0, 'python', 4.6, 'java', 90]\n"
     ]
    }
   ],
   "source": [
    "# Remove first and last items of the list\n",
    "my_list = [2, 15, 0,\"python\", 4.6,\"java\",90, 10]\n",
    "my_list.pop() # remove last item\n",
    "my_list.pop(0) # remove first item\n",
    "print(f\"my list after remove first and last item : {my_list}\")"
   ]
  },
  {
   "cell_type": "code",
   "execution_count": 3,
   "id": "64ccffd1",
   "metadata": {},
   "outputs": [
    {
     "data": {
      "text/plain": [
       "[2, 15, 0, 'python', 4.6, 'java', 10]"
      ]
     },
     "execution_count": 3,
     "metadata": {},
     "output_type": "execute_result"
    }
   ],
   "source": [
    "# Remove 90 and 300 from the list\n",
    "my_list = [2, 15, 0,\"python\", 4.6,\"java\",90, 10]\n",
    "my_list.remove(90)\n",
    "\n",
    "my_list"
   ]
  },
  {
   "cell_type": "code",
   "execution_count": 4,
   "id": "d14b2286",
   "metadata": {},
   "outputs": [
    {
     "ename": "ValueError",
     "evalue": "list.remove(x): x not in list",
     "output_type": "error",
     "traceback": [
      "\u001b[1;31m---------------------------------------------------------------------------\u001b[0m",
      "\u001b[1;31mValueError\u001b[0m                                Traceback (most recent call last)",
      "\u001b[1;32m~\\AppData\\Local\\Temp\\ipykernel_10824\\3457841999.py\u001b[0m in \u001b[0;36m<module>\u001b[1;34m\u001b[0m\n\u001b[1;32m----> 1\u001b[1;33m \u001b[0mmy_list\u001b[0m\u001b[1;33m.\u001b[0m\u001b[0mremove\u001b[0m\u001b[1;33m(\u001b[0m\u001b[1;36m300\u001b[0m\u001b[1;33m)\u001b[0m \u001b[1;31m# 300 not in list\u001b[0m\u001b[1;33m\u001b[0m\u001b[1;33m\u001b[0m\u001b[0m\n\u001b[0m",
      "\u001b[1;31mValueError\u001b[0m: list.remove(x): x not in list"
     ]
    }
   ],
   "source": [
    "my_list.remove(300) # 300 not in list"
   ]
  },
  {
   "cell_type": "code",
   "execution_count": 5,
   "id": "dd0c704d",
   "metadata": {},
   "outputs": [
    {
     "data": {
      "text/plain": [
       "[2, 15, 5, 0, 'python', 4.6, 'java', 90, 10]"
      ]
     },
     "execution_count": 5,
     "metadata": {},
     "output_type": "execute_result"
    }
   ],
   "source": [
    "# Add 5 between 15 and 0\n",
    "my_list = [2, 15, 0,\"python\", 4.6,\"java\",90, 10]\n",
    "my_list.insert(2,5)\n",
    "my_list"
   ]
  },
  {
   "cell_type": "code",
   "execution_count": 6,
   "id": "d5d9e5ba",
   "metadata": {},
   "outputs": [
    {
     "data": {
      "text/plain": [
       "[2, 15, 0, 'js', 4.6, 'java', 90, 10]"
      ]
     },
     "execution_count": 6,
     "metadata": {},
     "output_type": "execute_result"
    }
   ],
   "source": [
    "# Edit “Js” with “python”\n",
    "my_list = [2, 15, 0,\"python\", 4.6,\"java\",90, 10]\n",
    "my_list[3]=\"js\"\n",
    "my_list"
   ]
  },
  {
   "cell_type": "code",
   "execution_count": 7,
   "id": "c2d9171e",
   "metadata": {},
   "outputs": [
    {
     "data": {
      "text/plain": [
       "[2, 15, 0, 'python', 4.6, 'java', 90, 10, 50]"
      ]
     },
     "execution_count": 7,
     "metadata": {},
     "output_type": "execute_result"
    }
   ],
   "source": [
    "# Add 50 at the end of the list\n",
    "my_list = [2, 15, 0,\"python\", 4.6,\"java\",90, 10]\n",
    "my_list.append(50)\n",
    "my_list"
   ]
  },
  {
   "cell_type": "code",
   "execution_count": 8,
   "id": "105aa674",
   "metadata": {},
   "outputs": [
    {
     "name": "stdout",
     "output_type": "stream",
     "text": [
      "yes\n"
     ]
    }
   ],
   "source": [
    "# Search for 0 in the list and if it is in the list print \"yes\" else print \"no“\n",
    "if 0 in my_list:\n",
    "    print(\"yes\")\n",
    "else:\n",
    "    print(\"no\")"
   ]
  },
  {
   "cell_type": "code",
   "execution_count": 9,
   "id": "a876002d",
   "metadata": {},
   "outputs": [
    {
     "data": {
      "text/plain": [
       "2"
      ]
     },
     "execution_count": 9,
     "metadata": {},
     "output_type": "execute_result"
    }
   ],
   "source": [
    "my_list.index(0)"
   ]
  },
  {
   "cell_type": "code",
   "execution_count": 10,
   "id": "7fdcb46a",
   "metadata": {},
   "outputs": [
    {
     "name": "stdout",
     "output_type": "stream",
     "text": [
      "no\n"
     ]
    }
   ],
   "source": [
    "first_or_default = ((print(\"yes\") for x in my_list if x==0), print(\"no\"))"
   ]
  },
  {
   "cell_type": "markdown",
   "id": "be500483",
   "metadata": {},
   "source": [
    "## Question 2 (List)\n",
    "\n",
    "Get a string in one of the following forms from the input and display the expected\n",
    "result."
   ]
  },
  {
   "cell_type": "markdown",
   "id": "34718c35",
   "metadata": {},
   "source": [
    "\n",
    "Sample1: 2 + 3 = ?\n",
    "\n",
    "Output: 2 + 3 = 5\n",
    "\n",
    "=======\n",
    "\n",
    "Sample2: 2 - 3 = ?\n",
    "\n",
    "Output: 2 - 3 = -1\n",
    "\n",
    "=======\n",
    "\n",
    "Sample3: 2 * 3 = ?\n",
    "\n",
    "Output: 2 * 3 = 6\n",
    "\n",
    "=======\n",
    "\n",
    "Sample4: 5 / 2 = ?\n",
    "\n",
    "Output: 5 / 2 = 2.5\n",
    "\n",
    "======\n",
    "\n",
    "Sample5: 2 / 0 = ?\n",
    "\n",
    "Output: 2 / 0 = Error\n",
    "\n",
    "======"
   ]
  },
  {
   "cell_type": "code",
   "execution_count": 11,
   "id": "5d0251ee",
   "metadata": {},
   "outputs": [
    {
     "name": "stdout",
     "output_type": "stream",
     "text": [
      "Please enter one of the calculation operations (addition, multiplication, division or subtraction) : 2 + 3\n",
      "2.0 + 3.0 = 5.0\n",
      "Please enter one of the calculation operations (addition, multiplication, division or subtraction) : 2 - 3\n",
      "2.0 - 3.0 = -1.0\n",
      "Please enter one of the calculation operations (addition, multiplication, division or subtraction) : 2 * 3\n",
      "2.0 * 3.0 = 6.0\n",
      "Please enter one of the calculation operations (addition, multiplication, division or subtraction) : 5 / 2\n",
      "5.0 / 2.0 =2.5\n",
      "Please enter one of the calculation operations (addition, multiplication, division or subtraction) : 2 / 0\n",
      "2.0 / 0.0 = Error\n"
     ]
    }
   ],
   "source": [
    "for i in range(5):\n",
    "    op = input(\"Please enter one of the calculation operations (addition, multiplication, division or subtraction) : \")\n",
    "    op = op.split()\n",
    "    op1 = float(op[0])\n",
    "    op2 = float(op[2])\n",
    "\n",
    "    if op[1]=='+':\n",
    "        print(f\"{op1} + {op2} = {op1 + op2}\")\n",
    "    elif op[1]=='*':\n",
    "        print(f\"{op1} * {op2} = {op1 * op2}\")\n",
    "    elif op[1]=='-':\n",
    "        print(f\"{op1} - {op2} = {op1 - op2}\")\n",
    "    try:\n",
    "        if op[1]=='/':\n",
    "            print(f\"{op1} / {op2} ={op1 / op2}\")\n",
    "    except:\n",
    "        print(f\"{op1} / {op2} = Error\")\n",
    "\n",
    "\n",
    "    "
   ]
  },
  {
   "cell_type": "markdown",
   "id": "bdded18b",
   "metadata": {},
   "source": [
    "## Question 3 (List)\n",
    "\n",
    "Based on the two lists below, make a third list that includes the data that is in the\n",
    "first list and not in the second list.\n",
    "\n",
    "\n",
    "List1 = [ 12, 2, 34, 10, 4, 18, 10]\n",
    "\n",
    "\n",
    "List2 = [12, 100, 10, 4, 5, 50]\n"
   ]
  },
  {
   "cell_type": "code",
   "execution_count": 12,
   "id": "e39d50a5",
   "metadata": {},
   "outputs": [
    {
     "data": {
      "text/plain": [
       "[2, 34, 18]"
      ]
     },
     "execution_count": 12,
     "metadata": {},
     "output_type": "execute_result"
    }
   ],
   "source": [
    "List1 = [ 12, 2, 34, 10, 4, 18, 10]\n",
    "List2 = [12, 100, 10, 4, 5, 50]\n",
    "List3 = []\n",
    "for i in List1:\n",
    "    if i not in List2:\n",
    "        List3.append(i)\n",
    "List3"
   ]
  },
  {
   "cell_type": "markdown",
   "id": "daeb57d4",
   "metadata": {},
   "source": [
    "## Question 4 (List)\n",
    "\n",
    "Display the minimum, maximum, sum, average, length, and median for the list\n",
    "below."
   ]
  },
  {
   "cell_type": "markdown",
   "id": "5110e998",
   "metadata": {},
   "source": [
    "Numbers = [10, 20, 20, 12, 30, 45, 2.4, 1.5]\n"
   ]
  },
  {
   "cell_type": "code",
   "execution_count": 13,
   "id": "2cf67b65",
   "metadata": {},
   "outputs": [
    {
     "name": "stdout",
     "output_type": "stream",
     "text": [
      "minimum : 1.5\n",
      "=====\n",
      "maximum : 45 \n",
      "=====\n",
      "sum : 140.9 \n",
      "average : 17.6125 \n",
      "=====\n",
      "length : 8 \n",
      "=====\n",
      "median : 16.0 \n",
      "=====\n"
     ]
    }
   ],
   "source": [
    "Numbers = [10, 20, 20, 12, 30, 45, 2.4, 1.5]\n",
    "print(f\"minimum : {min(Numbers)}\")\n",
    "print(\"=====\")\n",
    "print(f\"maximum : {max(Numbers)} \")\n",
    "print(\"=====\")\n",
    "print(f\"sum : {sum(Numbers)} \")\n",
    "# print(\"=====\")\n",
    "print(f\"average : {(sum(Numbers))/len(Numbers)} \")\n",
    "print(\"=====\")\n",
    "print(f\"length : {len(Numbers)} \")\n",
    "print(\"=====\")\n",
    "s = sorted(Numbers)\n",
    "l = len(Numbers)\n",
    "index = (l - 1) // 2\n",
    "   \n",
    "if (l % 2):\n",
    "    print(f\"median : {s[index]} \")\n",
    "    \n",
    "else:\n",
    "    print(f\"median : {(s[index] + s[index + 1])/2.0} \")\n",
    "print(\"=====\")"
   ]
  },
  {
   "cell_type": "code",
   "execution_count": 14,
   "id": "99066f5e",
   "metadata": {},
   "outputs": [
    {
     "name": "stdout",
     "output_type": "stream",
     "text": [
      "median : 16.0 \n"
     ]
    }
   ],
   "source": [
    "import statistics\n",
    "print(f\"median : {statistics.median(Numbers)} \")"
   ]
  },
  {
   "cell_type": "code",
   "execution_count": 15,
   "id": "ff71263c",
   "metadata": {},
   "outputs": [
    {
     "name": "stdout",
     "output_type": "stream",
     "text": [
      "median : 16.0 \n"
     ]
    }
   ],
   "source": [
    "from numpy import median\n",
    "print(f\"median : {median(Numbers)} \")\n",
    "\n"
   ]
  },
  {
   "cell_type": "code",
   "execution_count": null,
   "id": "0d34f543",
   "metadata": {},
   "outputs": [],
   "source": []
  }
 ],
 "metadata": {
  "kernelspec": {
   "display_name": "Python 3 (ipykernel)",
   "language": "python",
   "name": "python3"
  },
  "language_info": {
   "codemirror_mode": {
    "name": "ipython",
    "version": 3
   },
   "file_extension": ".py",
   "mimetype": "text/x-python",
   "name": "python",
   "nbconvert_exporter": "python",
   "pygments_lexer": "ipython3",
   "version": "3.9.13"
  }
 },
 "nbformat": 4,
 "nbformat_minor": 5
}
