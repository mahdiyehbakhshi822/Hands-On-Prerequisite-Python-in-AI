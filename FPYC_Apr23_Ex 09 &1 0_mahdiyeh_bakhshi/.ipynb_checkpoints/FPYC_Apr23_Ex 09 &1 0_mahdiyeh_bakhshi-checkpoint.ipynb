{
 "cells": [
  {
   "cell_type": "markdown",
   "metadata": {},
   "source": [
    "<div>\n",
    "<h2 style=\"background-color:Purple;text-align:center;border-radius:40px;border: 1px;padding: 20px; color:white\"><b>Filoger Hands On Prerequisite Python For AI <br>Exercises 07 & 08 | Deadline: 2023 9 May <br> Score: 700</h2>\n",
    "</div>"
   ]
  },
  {
   "cell_type": "markdown",
   "metadata": {},
   "source": [
    "# Name"
   ]
  },
  {
   "cell_type": "markdown",
   "metadata": {},
   "source": [
    "## Mahdiyeh Bakhshi"
   ]
  },
  {
   "cell_type": "markdown",
   "metadata": {},
   "source": [
    "<h3 style=\"background-color:#ff3300\n",
    ";text-align:center;border-radius:40px;border: 1px;padding: 10px;color:white\"><b>Exercises 09<br>Score: 550</h3>"
   ]
  },
  {
   "cell_type": "markdown",
   "metadata": {},
   "source": [
    "<h5 style=\"background-color:#1765e3;text-align:left;border-radius:40px;border: 1px;padding: 10px;color:white\"><b>1- Based on some examples (code), show the difference between list and tuple(50)</h5>"
   ]
  },
  {
   "cell_type": "code",
   "execution_count": 2,
   "metadata": {},
   "outputs": [],
   "source": [
    "''' lists are mutable, meaning that their elements can be changed after they are created \n",
    "while tuples are immutable, meaning that their elements cannot be changed after they are created.\n",
    "lists are created using square brackets, while tuples are created using parentheses.\n",
    "\n",
    "One of the main advantages of using tuples over lists is that they are faster and use less memory. \n",
    "This is because Python does not need to allocate extra space for the list's elements to allow for changes to be made.\n",
    "If you have a collection of data that you know will not change, it is a good idea to use a tuple instead of a list.\n",
    "\n",
    "On the other hand, if you need to add, remove, or modify elements in your collection, \n",
    "you should use a list. Lists are more flexible and can be modified in place without having to create a new object.\n",
    "\n",
    "In summary, use a list when you need a collection of data that can be modified,\n",
    "and use a tuple when you have a collection of data that will not change.\n",
    "'''\n",
    "fruits = [\"apple\", \"banana\", \"orange\", \"grape\"]\n",
    "\n",
    "colors = (\"red\", \"green\", \"blue\", \"yellow\")"
   ]
  },
  {
   "cell_type": "code",
   "execution_count": 3,
   "metadata": {},
   "outputs": [
    {
     "data": {
      "text/plain": [
       "['apple', 'banana', 'orange', 'grape', 'pear']"
      ]
     },
     "execution_count": 3,
     "metadata": {},
     "output_type": "execute_result"
    }
   ],
   "source": [
    "# Here is an example of adding an element to a list:\n",
    "fruits.append(\"pear\")\n",
    "fruits"
   ]
  },
  {
   "cell_type": "code",
   "execution_count": 4,
   "metadata": {},
   "outputs": [
    {
     "ename": "TypeError",
     "evalue": "'tuple' object does not support item assignment",
     "output_type": "error",
     "traceback": [
      "\u001b[1;31m---------------------------------------------------------------------------\u001b[0m",
      "\u001b[1;31mTypeError\u001b[0m                                 Traceback (most recent call last)",
      "\u001b[1;32m~\\AppData\\Local\\Temp\\ipykernel_5184\\3664544115.py\u001b[0m in \u001b[0;36m<module>\u001b[1;34m\u001b[0m\n\u001b[0;32m      1\u001b[0m \u001b[1;31m# And here is an example of trying to modify an element in a tuple\u001b[0m\u001b[1;33m\u001b[0m\u001b[1;33m\u001b[0m\u001b[0m\n\u001b[1;32m----> 2\u001b[1;33m \u001b[0mcolors\u001b[0m\u001b[1;33m[\u001b[0m\u001b[1;36m0\u001b[0m\u001b[1;33m]\u001b[0m \u001b[1;33m=\u001b[0m \u001b[1;34m\"purple\"\u001b[0m\u001b[1;33m\u001b[0m\u001b[1;33m\u001b[0m\u001b[0m\n\u001b[0m",
      "\u001b[1;31mTypeError\u001b[0m: 'tuple' object does not support item assignment"
     ]
    }
   ],
   "source": [
    "# And here is an example of trying to modify an element in a tuple\n",
    "colors[0] = \"purple\""
   ]
  },
  {
   "cell_type": "markdown",
   "metadata": {},
   "source": [
    "<h5 style=\"background-color:#1765e3;text-align:left;border-radius:40px;border: 1px;padding: 10px;color:white\"><b>2- Tuple(100)</h5>"
   ]
  },
  {
   "cell_type": "markdown",
   "metadata": {},
   "source": [
    "Create an empty tuple"
   ]
  },
  {
   "cell_type": "code",
   "execution_count": 5,
   "metadata": {},
   "outputs": [],
   "source": [
    "empty_tuple = ()\n",
    "empty_tuple = tuple()"
   ]
  },
  {
   "cell_type": "markdown",
   "metadata": {},
   "source": [
    "Create a tuple with one item"
   ]
  },
  {
   "cell_type": "code",
   "execution_count": 8,
   "metadata": {},
   "outputs": [
    {
     "data": {
      "text/plain": [
       "tuple"
      ]
     },
     "execution_count": 8,
     "metadata": {},
     "output_type": "execute_result"
    }
   ],
   "source": [
    "'''comma is required to distinguish a tuple with one item from a string or a number that's surrounded by parentheses.\n",
    "Without the comma, Python will interpret the expression as a string or a number, not a tuple.'''\n",
    "my_tuple1 = (\"apple\",)\n",
    "type(my_tuple)"
   ]
  },
  {
   "cell_type": "markdown",
   "metadata": {},
   "source": [
    "Create a tuple with more than one item."
   ]
  },
  {
   "cell_type": "code",
   "execution_count": 10,
   "metadata": {},
   "outputs": [],
   "source": [
    "person = (\"John\", 25, \"New York\")\n",
    "my_tuple = (\"apple\", \"banana\", \"orange\")\n"
   ]
  },
  {
   "cell_type": "markdown",
   "metadata": {},
   "source": [
    "Concatenate two tuples of Part2 and Part3"
   ]
  },
  {
   "cell_type": "code",
   "execution_count": 12,
   "metadata": {},
   "outputs": [
    {
     "data": {
      "text/plain": [
       "('apple', 'John', 25, 'New York')"
      ]
     },
     "execution_count": 12,
     "metadata": {},
     "output_type": "execute_result"
    }
   ],
   "source": [
    "result = my_tuple1+person\n",
    "result"
   ]
  },
  {
   "cell_type": "markdown",
   "metadata": {},
   "source": [
    "Check 1 is in tuple of Part4 or no."
   ]
  },
  {
   "cell_type": "code",
   "execution_count": 13,
   "metadata": {},
   "outputs": [
    {
     "name": "stdout",
     "output_type": "stream",
     "text": [
      "No, 1 is not in the tuple.\n"
     ]
    }
   ],
   "source": [
    "if 1 in result:\n",
    "    print(\"Yes, 1 is in the tuple.\")\n",
    "else:\n",
    "    print(\"No, 1 is not in the tuple.\")"
   ]
  },
  {
   "cell_type": "markdown",
   "metadata": {},
   "source": [
    "<h5 style=\"background-color:#1765e3;text-align:left;border-radius:40px;border: 1px;padding: 10px;color:white\"><b>3- Answer the questions according to the list below.\n",
    "numbers = (10, 20, 30, 5, 40, 20, 4, 2, 1,8, 80)  (100)</h5>"
   ]
  },
  {
   "cell_type": "markdown",
   "metadata": {},
   "source": [
    "Add 100 at the end of tuple"
   ]
  },
  {
   "cell_type": "code",
   "execution_count": 14,
   "metadata": {},
   "outputs": [
    {
     "data": {
      "text/plain": [
       "(10, 20, 30, 5, 40, 20, 4, 2, 1, 8, 80, 100)"
      ]
     },
     "execution_count": 14,
     "metadata": {},
     "output_type": "execute_result"
    }
   ],
   "source": [
    "numbers = (10, 20, 30, 5, 40, 20, 4, 2, 1,8, 80)\n",
    "\n",
    "'''tuples are immutable, which means that you cannot modify their contents once they are created.\n",
    "However, you can create a new tuple based on an existing tuple with the desired modifications.'''\n",
    "\n",
    "new_tuple = numbers + (100,)# original tuple is still unchanged, and a new tuple object is created with the modified contents.\n",
    "new_tuple"
   ]
  },
  {
   "cell_type": "markdown",
   "metadata": {},
   "source": [
    "Add 50 in the index of 3."
   ]
  },
  {
   "cell_type": "code",
   "execution_count": 15,
   "metadata": {},
   "outputs": [
    {
     "name": "stdout",
     "output_type": "stream",
     "text": [
      "(10, 20, 30, 50, 5, 40, 20, 4, 2, 1, 8, 80)\n"
     ]
    }
   ],
   "source": [
    "'''tuples are immutable, which means that you cannot modify their contents once they are created\n",
    "\n",
    "'''\n",
    "new_tuple = numbers[:3] + (50,) + numbers[3:]\n",
    "print(new_tuple)"
   ]
  },
  {
   "cell_type": "markdown",
   "metadata": {},
   "source": [
    "Remove 30 from tuple"
   ]
  },
  {
   "cell_type": "code",
   "execution_count": 16,
   "metadata": {},
   "outputs": [
    {
     "name": "stdout",
     "output_type": "stream",
     "text": [
      "(10, 20, 5, 40, 20, 4, 2, 1, 8, 80)\n"
     ]
    }
   ],
   "source": [
    "# tuples are immutable, which means that you cannot modify their contents once they are created\n",
    "new_tuple = numbers[:2] + numbers[3:]\n",
    "print(new_tuple)"
   ]
  },
  {
   "cell_type": "markdown",
   "metadata": {},
   "source": [
    "Edit 10 with 110"
   ]
  },
  {
   "cell_type": "code",
   "execution_count": 17,
   "metadata": {},
   "outputs": [
    {
     "name": "stdout",
     "output_type": "stream",
     "text": [
      "(110, 20, 30, 5, 40, 20, 4, 2, 1, 8, 80)\n"
     ]
    }
   ],
   "source": [
    "new_tuple = list(numbers)\n",
    "new_tuple[0] = 110\n",
    "new_tuple = tuple(new_tuple)\n",
    "print(new_tuple)"
   ]
  },
  {
   "cell_type": "markdown",
   "metadata": {},
   "source": [
    "Sort the tuple."
   ]
  },
  {
   "cell_type": "code",
   "execution_count": 19,
   "metadata": {},
   "outputs": [
    {
     "name": "stdout",
     "output_type": "stream",
     "text": [
      "(1, 2, 4, 5, 8, 10, 20, 20, 30, 40, 80)\n"
     ]
    }
   ],
   "source": [
    "'''\n",
    "sorted() function returns a new list object, \n",
    "so we need to convert it back to a tuple if we want to create a new tuple with the sorted elements\n",
    "'''\n",
    "\n",
    "sorted_tuple = tuple(sorted(numbers))\n",
    "print(sorted_tuple)\n"
   ]
  },
  {
   "cell_type": "markdown",
   "metadata": {},
   "source": [
    "<h5 style=\"background-color:#1765e3;text-align:left;border-radius:40px;border: 1px;padding: 10px;color:white\"><b>4- Write a python program that takes a list of tuple and display other list that only have\n",
    "first and last items of each tuple.</h5>"
   ]
  },
  {
   "cell_type": "code",
   "execution_count": 20,
   "metadata": {},
   "outputs": [],
   "source": [
    "# Input:[(1, 2, 3), (3, 5, 6), (4, 10, 12)]\n",
    "# Output: [(1, 3), (3, 6), (4, 12)]"
   ]
  },
  {
   "cell_type": "code",
   "execution_count": 21,
   "metadata": {},
   "outputs": [
    {
     "name": "stdout",
     "output_type": "stream",
     "text": [
      "[(1, 3), (3, 6), (4, 12)]\n"
     ]
    }
   ],
   "source": [
    "input_list = [(1, 2, 3), (3, 5, 6), (4, 10, 12)]\n",
    "output_list = []\n",
    "for tuple in input_list:\n",
    "    first_item = tuple[0]\n",
    "    last_item = tuple[-1]\n",
    "    new_tuple = (first_item, last_item)\n",
    "    output_list.append(new_tuple)\n",
    "print(output_list)"
   ]
  },
  {
   "cell_type": "markdown",
   "metadata": {},
   "source": [
    "<h5 style=\"background-color:#1765e3;text-align:left;border-radius:40px;border: 1px;padding: 10px;color:white\"><b>5- Generate 10 different random numbers between 100 and two 200.(100)\n",
    " </h5>"
   ]
  },
  {
   "cell_type": "code",
   "execution_count": 22,
   "metadata": {},
   "outputs": [
    {
     "name": "stdout",
     "output_type": "stream",
     "text": [
      "{131, 196, 133, 199, 169, 139, 175, 116, 189, 158}\n"
     ]
    }
   ],
   "source": [
    "import random\n",
    "\n",
    "random_numbers = set()\n",
    "while len(random_numbers) < 10:\n",
    "    random_numbers.add(random.randint(100, 200))\n",
    "\n",
    "print(random_numbers)"
   ]
  },
  {
   "cell_type": "markdown",
   "metadata": {},
   "source": [
    "<h5 style=\"background-color:#1765e3;text-align:left;border-radius:40px;border: 1px;padding: 10px;color:white\"><b>6- Create two lists, then create a third list that contains values that are in the first list but\n",
    "not in the second list.\n",
    " </h5>"
   ]
  },
  {
   "cell_type": "code",
   "execution_count": 23,
   "metadata": {},
   "outputs": [
    {
     "name": "stdout",
     "output_type": "stream",
     "text": [
      "[1, 2]\n"
     ]
    }
   ],
   "source": [
    "list1 = [1, 2, 3, 4, 5]\n",
    "list2 = [3, 4, 5, 6, 7]\n",
    "list3 = list(set(list1) - set(list2))\n",
    "\n",
    "print(list3)"
   ]
  },
  {
   "cell_type": "markdown",
   "metadata": {},
   "source": [
    "<h5 style=\"background-color:#1765e3;text-align:left;border-radius:40px;border: 1px;padding: 10px;color:white\"><b>7- Find two new methods for Tuple and Set.\n",
    " </h5>"
   ]
  },
  {
   "cell_type": "code",
   "execution_count": 24,
   "metadata": {},
   "outputs": [
    {
     "name": "stdout",
     "output_type": "stream",
     "text": [
      "3\n"
     ]
    }
   ],
   "source": [
    "# Tuple Method: count()\n",
    "# The count() method returns the number of times a specified element appears in a tuple.\n",
    "my_tuple = (1, 2, 3, 1, 4, 1)\n",
    "count_of_ones = my_tuple.count(1)\n",
    "print(count_of_ones)"
   ]
  },
  {
   "cell_type": "code",
   "execution_count": 25,
   "metadata": {},
   "outputs": [
    {
     "name": "stdout",
     "output_type": "stream",
     "text": [
      "1\n"
     ]
    }
   ],
   "source": [
    "# Tuple Method: index()\n",
    "# The index() method returns the index of the first occurrence of a specified element in a tuple. \n",
    "\n",
    "my_tuple = (1, 2, 3, 1, 4, 1)\n",
    "index_of_two = my_tuple.index(2)\n",
    "print(index_of_two)"
   ]
  },
  {
   "cell_type": "code",
   "execution_count": 26,
   "metadata": {},
   "outputs": [
    {
     "name": "stdout",
     "output_type": "stream",
     "text": [
      "{1, 2, 5, 6}\n"
     ]
    }
   ],
   "source": [
    "# Set Method: symmetric_difference()\n",
    "# The symmetric_difference() method returns a set containing all elements that are unique to both sets. \n",
    "set1 = {1, 2, 3, 4}\n",
    "set2 = {3, 4, 5, 6}\n",
    "diff_set = set1.symmetric_difference(set2)\n",
    "print(diff_set)"
   ]
  },
  {
   "cell_type": "code",
   "execution_count": 27,
   "metadata": {},
   "outputs": [
    {
     "name": "stdout",
     "output_type": "stream",
     "text": [
      "True\n"
     ]
    }
   ],
   "source": [
    "# Set Method: issubset()\n",
    "# The issubset() method returns True if all elements of a set are present in another set, otherwise it returns False.\n",
    "set1 = {1, 2, 3}\n",
    "set2 = {1, 2, 3, 4, 5}\n",
    "is_subset = set1.issubset(set2)\n",
    "print(is_subset)"
   ]
  },
  {
   "cell_type": "markdown",
   "metadata": {},
   "source": [
    "<h3 style=\"background-color:#ff3300\n",
    ";text-align:center;border-radius:40px;border: 1px;padding: 10px;color:white\"><b>Exercise 10<br>Score: 150</h3>"
   ]
  },
  {
   "cell_type": "markdown",
   "metadata": {},
   "source": [
    "<h5 style=\"background-color:#1765e3;text-align:left;border-radius:40px;border: 1px;padding: 10px;color:white\"><b>1- Write a recursive function for the binary search algorithm. (150)\n",
    " </h5>"
   ]
  },
  {
   "cell_type": "code",
   "execution_count": 28,
   "metadata": {},
   "outputs": [],
   "source": [
    "def binary_search_recursive(arr, low, high, target):\n",
    "    # Base case: if the low index is greater than the high index, the target is not in the array\n",
    "    if low > high:\n",
    "        return -1\n",
    "\n",
    "    # Find the middle index\n",
    "    mid = (low + high) // 2\n",
    "\n",
    "    # Check if the middle element is the target\n",
    "    if arr[mid] == target:\n",
    "        return mid\n",
    "\n",
    "    # If the target is less than the middle element, search the left half of the array\n",
    "    elif target < arr[mid]:\n",
    "        return binary_search_recursive(arr, low, mid - 1, target)\n",
    "\n",
    "    # If the target is greater than the middle element, search the right half of the array\n",
    "    else:\n",
    "        return binary_search_recursive(arr, mid + 1, high, target)"
   ]
  },
  {
   "cell_type": "code",
   "execution_count": 29,
   "metadata": {},
   "outputs": [
    {
     "name": "stdout",
     "output_type": "stream",
     "text": [
      "5\n"
     ]
    }
   ],
   "source": [
    "arr = [1, 2, 3, 4, 5, 6, 7, 8, 9]\n",
    "target = 6\n",
    "result = binary_search_recursive(arr, 0, len(arr) - 1, target)\n",
    "print(result)"
   ]
  },
  {
   "cell_type": "code",
   "execution_count": null,
   "metadata": {},
   "outputs": [],
   "source": []
  }
 ],
 "metadata": {
  "kernelspec": {
   "display_name": "Python 3 (ipykernel)",
   "language": "python",
   "name": "python3"
  },
  "language_info": {
   "codemirror_mode": {
    "name": "ipython",
    "version": 3
   },
   "file_extension": ".py",
   "mimetype": "text/x-python",
   "name": "python",
   "nbconvert_exporter": "python",
   "pygments_lexer": "ipython3",
   "version": "3.9.13"
  }
 },
 "nbformat": 4,
 "nbformat_minor": 2
}
