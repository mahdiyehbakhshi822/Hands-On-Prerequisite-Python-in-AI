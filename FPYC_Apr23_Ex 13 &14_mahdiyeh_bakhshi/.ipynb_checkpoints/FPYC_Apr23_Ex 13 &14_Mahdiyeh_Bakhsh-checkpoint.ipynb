{
 "cells": [
  {
   "cell_type": "markdown",
   "metadata": {},
   "source": [
    "<div>\n",
    "<h2 style=\"background-color:Purple;text-align:center;border-radius:40px;border: 1px;padding: 20px; color:white\"><b>Filoger Hands On Prerequisite Python For AI <br>Exercises 13 & 14 | Deadline: 2023 31 May <br> Score: 800</h2>\n",
    "</div>"
   ]
  },
  {
   "cell_type": "markdown",
   "metadata": {},
   "source": [
    "# Name"
   ]
  },
  {
   "cell_type": "markdown",
   "metadata": {},
   "source": [
    "## Mahdiyeh Bakhshi"
   ]
  },
  {
   "cell_type": "markdown",
   "metadata": {},
   "source": [
    "<h3 style=\"background-color:#ff3300\n",
    ";text-align:center;border-radius:40px;border: 1px;padding: 10px;color:white\"><b>Exercises 13<br>Score: 500</h3>"
   ]
  },
  {
   "cell_type": "markdown",
   "metadata": {},
   "source": [
    "<h5 style=\"background-color:#1765e3;text-align:left;border-radius:40px;border: 1px;padding: 10px;color:white\"><b>1- Create a class Rectangle with attributes length and width and methods area(), perimeter()\n",
    "and display() for show length and width. Test your class by creating two objects and call\n",
    "attributes and methods for this objects.(200)</h5>"
   ]
  },
  {
   "cell_type": "code",
   "execution_count": 1,
   "metadata": {},
   "outputs": [],
   "source": [
    "class Rectangle:\n",
    "    def __init__(self, length, width):\n",
    "        self.length = length\n",
    "        self.width = width\n",
    "        \n",
    "    def area(self):\n",
    "        return self.length * self.width\n",
    "    \n",
    "    def perimeter(self):\n",
    "        return 2 * (self.length + self.width)\n",
    "    \n",
    "    def display(self):\n",
    "        print(\"Length:\", self.length)\n",
    "        print(\"Width:\", self.width)"
   ]
  },
  {
   "cell_type": "code",
   "execution_count": 2,
   "metadata": {},
   "outputs": [
    {
     "name": "stdout",
     "output_type": "stream",
     "text": [
      "Rectangle 1:\n",
      "Length: 5\n",
      "Width: 10\n",
      "Area: 50\n",
      "Perimeter: 30\n",
      "=========================\n",
      "Rectangle 2:\n",
      "Length: 3\n",
      "Width: 7\n",
      "Area: 21\n",
      "Perimeter: 20\n"
     ]
    }
   ],
   "source": [
    "# ایجاد دو شیء از کلاس Rectangle\n",
    "rect1 = Rectangle(5, 10)\n",
    "rect2 = Rectangle(3, 7)\n",
    "\n",
    "# نمایش ویژگیهای و روش‌های شیء rect1\n",
    "print(\"Rectangle 1:\")\n",
    "rect1.display()\n",
    "print(\"Area:\", rect1.area())\n",
    "print(\"Perimeter:\", rect1.perimeter())\n",
    "print(\"=========================\")\n",
    "# نمایش ویژگی‌های و روش‌های شیء rect2\n",
    "print(\"Rectangle 2:\")\n",
    "rect2.display()\n",
    "print(\"Area:\", rect2.area())\n",
    "print(\"Perimeter:\", rect2.perimeter())"
   ]
  },
  {
   "cell_type": "markdown",
   "metadata": {},
   "source": [
    "<h5 style=\"background-color:#1765e3;text-align:left;border-radius:40px;border: 1px;padding: 10px;color:white\"><b>2- Create a BankAccount class with 4 attributes and 4 methods as a following.(300)</h5>"
   ]
  },
  {
   "cell_type": "markdown",
   "metadata": {},
   "source": [
    "Attributes:<br>\n",
    "account_number, account_type, holder_name, balance<br><br>\n",
    "Methods:<br>\n",
    "deposite(amount) : get an amount and adds it to the account balance.<br>\n",
    "withdraw(amount): get an amount and subtracts it from the account balance.<br>\n",
    "get_balance(): show only current balance<br>\n",
    "get_all_info(): show all attributes"
   ]
  },
  {
   "cell_type": "code",
   "execution_count": 3,
   "metadata": {},
   "outputs": [],
   "source": [
    "class BankAccount:\n",
    "    def __init__(self, account_number, account_type, holder_name, balance):\n",
    "        self.account_number = account_number\n",
    "        self.account_type = account_type\n",
    "        self.holder_name = holder_name\n",
    "        self.balance = balance\n",
    "        \n",
    "    def deposit(self, amount):\n",
    "        self.balance += amount\n",
    "        \n",
    "    def withdraw(self, amount):\n",
    "        if amount > self.balance:\n",
    "            print(\"Insufficient balance\")\n",
    "        else:\n",
    "            self.balance -= amount\n",
    "            \n",
    "    def get_balance(self):\n",
    "        return self.balance\n",
    "    \n",
    "    def get_all_info(self):\n",
    "        print(\"Account Number:\", self.account_number)\n",
    "        print(\"Account Type:\", self.account_type)\n",
    "        print(\"Holder Name:\", self.holder_name)\n",
    "        print(\"Balance:\", self.balance)"
   ]
  },
  {
   "cell_type": "code",
   "execution_count": 4,
   "metadata": {},
   "outputs": [
    {
     "name": "stdout",
     "output_type": "stream",
     "text": [
      "Account Number: 123456789\n",
      "Account Type: Checking\n",
      "Holder Name: John Smith\n",
      "Balance: 1000\n",
      "Current balance: 1500\n",
      "Insufficient balance\n",
      "Current balance: 1500\n"
     ]
    }
   ],
   "source": [
    "# ایجاد یک شیء از کلاس BankAccount\n",
    "account = BankAccount(\"123456789\", \"Checking\", \"John Smith\", 1000)\n",
    "\n",
    "# نمایش اطلاعات حساب\n",
    "account.get_all_info()\n",
    "\n",
    "# واریز مبلغ 500\n",
    "account.deposit(500)\n",
    "\n",
    "# نمایش موجودی حساب\n",
    "print(\"Current balance:\", account.get_balance())\n",
    "\n",
    "# برداشت مبلغ 2000\n",
    "account.withdraw(2000)\n",
    "\n",
    "# نمایش موجودی حساب\n",
    "print(\"Current balance:\", account.get_balance())"
   ]
  },
  {
   "cell_type": "markdown",
   "metadata": {},
   "source": [
    "<h3 style=\"background-color:#ff3300\n",
    ";text-align:center;border-radius:40px;border: 1px;padding: 10px;color:white\"><b>Exercise 14<br>Score: 300</h3>"
   ]
  },
  {
   "cell_type": "markdown",
   "metadata": {},
   "source": [
    "<h5 style=\"background-color:#1765e3;text-align:left;border-radius:40px;border: 1px;padding: 10px;color:white\"><b>1-Write a program such as CartShopping problem, but for book and library. Create\n",
    "two classes one of them for book and another for library, add some attributes and\n",
    "some methods for this classes. This program should be add book in library and\n",
    "display all of book. (300)\n",
    " </h5>"
   ]
  },
  {
   "cell_type": "code",
   "execution_count": 5,
   "metadata": {},
   "outputs": [
    {
     "name": "stdout",
     "output_type": "stream",
     "text": [
      "Books in the library:\n",
      "The Great Gatsby by F. Scott Fitzgerald (1925)\n",
      "To Kill a Mockingbird by Harper Lee (1960)\n",
      "1984 by George Orwell (1949)\n"
     ]
    }
   ],
   "source": [
    "class Book:\n",
    "    def __init__(self, title, author, genre, year_published):\n",
    "        self.title = title\n",
    "        self.author = author\n",
    "        self.genre = genre\n",
    "        self.year_published = year_published\n",
    "\n",
    "    def __str__(self):\n",
    "        return f\"{self.title} by {self.author} ({self.year_published})\"\n",
    "\n",
    "class Library:\n",
    "    def __init__(self):\n",
    "        self.books = []\n",
    "\n",
    "    def add_book(self, book):\n",
    "        self.books.append(book)\n",
    "\n",
    "    def display_books(self):\n",
    "        print(\"Books in the library:\")\n",
    "        for book in self.books:\n",
    "            print(book)\n",
    "\n",
    "# Example usage:\n",
    "library = Library()\n",
    "\n",
    "book1 = Book(\"The Great Gatsby\", \"F. Scott Fitzgerald\", \"Classic literature\", 1925)\n",
    "book2 = Book(\"To Kill a Mockingbird\", \"Harper Lee\", \"Classic literature\", 1960)\n",
    "book3 = Book(\"1984\", \"George Orwell\", \"Dystopian fiction\", 1949)\n",
    "\n",
    "library.add_book(book1)\n",
    "library.add_book(book2)\n",
    "library.add_book(book3)\n",
    "\n",
    "library.display_books()"
   ]
  },
  {
   "cell_type": "code",
   "execution_count": 6,
   "metadata": {},
   "outputs": [],
   "source": [
    "class Book:\n",
    "    def __init__(self, title, author, publication_year):\n",
    "        self.title = title\n",
    "        self.author = author\n",
    "        self.publication_year = publication_year\n",
    "        \n",
    "    def get_title(self):\n",
    "        return self.title\n",
    "    \n",
    "    def get_author(self):\n",
    "        return self.author\n",
    "    \n",
    "    def get_publication_year(self):\n",
    "        return self.publication_year\n",
    "    \n",
    "    def __str__(self):\n",
    "        return f\"{self.title} by {self.author}, published in {self.publication_year}\"\n",
    "        \n",
    "\n",
    "class Library:\n",
    "    def __init__(self):\n",
    "        self.books = []\n",
    "        \n",
    "    def add_book(self, book):\n",
    "        self.books.append(book)\n",
    "        \n",
    "    def display_books(self):\n",
    "        for book in self.books:\n",
    "            print(book)"
   ]
  },
  {
   "cell_type": "code",
   "execution_count": 7,
   "metadata": {},
   "outputs": [
    {
     "name": "stdout",
     "output_type": "stream",
     "text": [
      "To Kill a Mockingbird by Harper Lee, published in 1960\n",
      "1984 by George Orwell, published in 1949\n",
      "Pride and Prejudice by Jane Austen, published in 1813\n"
     ]
    }
   ],
   "source": [
    "# Create some objects of the Book class\n",
    "book1 = Book(\"To Kill a Mockingbird\", \"Harper Lee\", 1960)\n",
    "book2 = Book(\"1984\", \"George Orwell\", 1949)\n",
    "book3 = Book(\"Pride and Prejudice\", \"Jane Austen\", 1813)\n",
    "\n",
    "# Create an object of the Library class\n",
    "library = Library()\n",
    "\n",
    "# Add the books to the library\n",
    "library.add_book(book1)\n",
    "library.add_book(book2)\n",
    "library.add_book(book3)\n",
    "\n",
    "# Display all the books available in the library\n",
    "library.display_books()"
   ]
  },
  {
   "cell_type": "code",
   "execution_count": null,
   "metadata": {},
   "outputs": [],
   "source": []
  }
 ],
 "metadata": {
  "kernelspec": {
   "display_name": "Python 3 (ipykernel)",
   "language": "python",
   "name": "python3"
  },
  "language_info": {
   "codemirror_mode": {
    "name": "ipython",
    "version": 3
   },
   "file_extension": ".py",
   "mimetype": "text/x-python",
   "name": "python",
   "nbconvert_exporter": "python",
   "pygments_lexer": "ipython3",
   "version": "3.9.13"
  }
 },
 "nbformat": 4,
 "nbformat_minor": 4
}
