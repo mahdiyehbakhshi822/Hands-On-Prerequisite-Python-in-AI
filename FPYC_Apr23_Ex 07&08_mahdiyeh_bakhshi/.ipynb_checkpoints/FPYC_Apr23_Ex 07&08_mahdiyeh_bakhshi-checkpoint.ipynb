{
 "cells": [
  {
   "cell_type": "markdown",
   "metadata": {},
   "source": [
    "<div>\n",
    "<h2 style=\"background-color:Purple;text-align:center;border-radius:40px;border: 1px;padding: 20px;\"><b>Filoger Hands On Prerequisite Python For AI <br>Exercises 07 & 08 | Deadline: 2023 9 May <br> Score: 700</h2>\n",
    "</div>"
   ]
  },
  {
   "cell_type": "markdown",
   "metadata": {},
   "source": [
    "# Name"
   ]
  },
  {
   "cell_type": "markdown",
   "metadata": {},
   "source": [
    "Name, Family Name\n",
    "# Mahdiyeh Bakhshi"
   ]
  },
  {
   "cell_type": "markdown",
   "metadata": {},
   "source": [
    "<h3 style=\"background-color:#ff3300\n",
    ";text-align:center;border-radius:40px;border: 1px;padding: 10px;\"><b>Exercises 07<br>Score: 400</h3>"
   ]
  },
  {
   "cell_type": "markdown",
   "metadata": {},
   "source": [
    "<h5 style=\"background-color:#1765e3;text-align:left;border-radius:40px;border: 1px;padding: 10px;\"><b>1- Write the product management project (exercise 6) using functions. (150)</h5>"
   ]
  },
  {
   "cell_type": "code",
   "execution_count": 5,
   "metadata": {},
   "outputs": [],
   "source": [
    "name_product = []\n",
    "price_product = []\n",
    "\n",
    "def add():\n",
    "    product = input(\"Enter a product to add: \")\n",
    "    price = int(input(\"Enter price: \"))\n",
    "    if product not in name_product:\n",
    "        name_product.append(product)\n",
    "        price_product.append(price)\n",
    "        print(\"product add\\n\")\n",
    "    else:\n",
    "        print(f\"{product}: exist!\\n\")\n",
    "\n",
    "def delete():\n",
    "    pro_del = input(\"enter product: \")\n",
    "    if pro_del in name_product:\n",
    "        name_product.remove(pro_del)\n",
    "        i = pro_del.index()\n",
    "        pro_del.pop(i)\n",
    "        print(\"successfully delete!!\")\n",
    "    else:\n",
    "        print(\"product not exist \")\n",
    "            \n",
    "def edit():\n",
    "    new_product = input(\"new product  : \")\n",
    "    new_price = input(\"new pricce  : \")\n",
    "    i = int(input(\"index of porduct which will edit : \"))\n",
    "    if new_product not in name_product:\n",
    "        name_product[i] = new_product\n",
    "        price_product[i] = new_price\n",
    "        print(\"successfully edited\")\n",
    "    else:\n",
    "        print(f\"{new_product}: exist!\")\n",
    "            \n",
    "def detail():\n",
    "    for i in range(len(name_product)):\n",
    "        print(f\"product {i+1} : {name_product[i]} ====> price : {price_product[i]}\")\n",
    "#display the total number of products, the average price, the most expensive and cheapest product\n",
    "    print(f\"total number of products : {len(name_product)}\")\n",
    "    print(f\"average price : {sum(price_product)/len(price_product)}\")\n",
    "    i = price_product.index(max(price_product))\n",
    "    j = price_product.index(min(price_product))\n",
    "\n",
    "    print(f\"most expensive product : {name_product[i]}\")\n",
    "    print(f\"cheapest product : {name_product[j]}\" )\n",
    "        \n",
    "def search():\n",
    "    word = input(\"product to search: \")\n",
    "    for i, p in enumerate(name_product):\n",
    "        if word in p:\n",
    "            print(f\"found in index {i}\")\n",
    "        else:\n",
    "            print(\"not found!!\")\n",
    "                \n",
    "\n",
    "#===================================================\n",
    "\n",
    "while True:\n",
    "    user = input(\"enter a option(add/delete/edit/detail/search) :\")\n",
    "\n",
    "    if user == \"add\":\n",
    "        add()\n",
    "    elif user == \"delete\":\n",
    "        delete()\n",
    "    elif user == \"edit\":\n",
    "        edit()\n",
    "    elif user == \"detail\":\n",
    "        detail()\n",
    "    elif user == \"search\":\n",
    "        search()\n",
    "    elif user == \"\":\n",
    "        pass\n",
    "\n",
    "    elif user == \"exit\":\n",
    "        break\n",
    "    else:\n",
    "        print(f\"{user}: command not found!\")"
   ]
  },
  {
   "cell_type": "markdown",
   "metadata": {},
   "source": [
    "<h5 style=\"background-color:#1765e3;text-align:left;border-radius:40px;border: 1px;padding: 10px;\"><b>2- Write the question 2 of exercise 5 using functions (100)</h5>"
   ]
  },
  {
   "cell_type": "code",
   "execution_count": null,
   "metadata": {},
   "outputs": [],
   "source": [
    "def calculator():\n",
    "    op = input(\"Please enter one of the calculation operations (addition, multiplication, division or subtraction) : \")\n",
    "    op = op.split()\n",
    "    op1 = float(op[0])\n",
    "    op2 = float(op[2])\n",
    "\n",
    "    if op[1]=='+':\n",
    "        print(f\"{op1} + {op2} = {op1 + op2}\")\n",
    "    elif op[1]=='*':\n",
    "        print(f\"{op1} * {op2} = {op1 * op2}\")\n",
    "    elif op[1]=='-':\n",
    "        print(f\"{op1} - {op2} = {op1 - op2}\")\n",
    "    try:\n",
    "        if op[1]=='/':\n",
    "            print(f\"{op1} / {op2} ={op1 / op2}\")\n",
    "    except:\n",
    "        print(f\"{op1} / {op2} = Error\")\n",
    "        \n",
    "for i in range(5):\n",
    "    calculator()\n",
    "    "
   ]
  },
  {
   "cell_type": "markdown",
   "metadata": {},
   "source": [
    "<h5 style=\"background-color:#1765e3;text-align:left;border-radius:40px;border: 1px;padding: 10px;\"><b>3- Receive two strings from the user in the following format, then receive one of the +, - and * and perform the requested calculations.(150)</h5>"
   ]
  },
  {
   "cell_type": "code",
   "execution_count": 21,
   "metadata": {},
   "outputs": [
    {
     "name": "stdout",
     "output_type": "stream",
     "text": [
      " Input_1 : 5 8 9 2\n",
      " Input_2 : 1 5 6\n",
      " Input_3(+ or - or *) : -\n",
      "433\n"
     ]
    }
   ],
   "source": [
    "# Input_1= '1 6 7 2 5'\n",
    "# Input_2= '1 2 4'\n",
    "# Input_3= '+'\n",
    "\n",
    "Input_1 = input(\" Input_1 : \")\n",
    "Input_2 = input(\" Input_2 : \")\n",
    "Input_3 = input(\" Input_3(+ or - or *) : \")\n",
    "\n",
    "a = Input_1.split()  \n",
    "b = Input_2.split() \n",
    "for i in range(len(a)):\n",
    "    a[i] = int(a[i])\n",
    "for j in range(len(b)):\n",
    "    b[j] = int(b[j])\n",
    "# print(a)\n",
    "# print(b)\n",
    "\n",
    "d = []\n",
    "for i in range(min(len(a),len(b))):\n",
    "    if Input_3 == '+':\n",
    "        d.append(a[i]+b[i])\n",
    "        s =\"\".join([str(i) for i in d])\n",
    "    \n",
    "    elif Input_3 == '*':\n",
    "        d.append(a[i]*b[i])\n",
    "        s =\"\".join([str(i) for i in d])\n",
    "    \n",
    "    elif Input_3 == '-':\n",
    "        d.append(a[i]-b[i])\n",
    "        s =\"\".join([str(i) for i in d])\n",
    "print(s)"
   ]
  },
  {
   "cell_type": "code",
   "execution_count": null,
   "metadata": {},
   "outputs": [],
   "source": []
  },
  {
   "cell_type": "markdown",
   "metadata": {},
   "source": [
    "<h3 style=\"background-color:#ff3300\n",
    ";text-align:center;border-radius:40px;border: 1px;padding: 10px;\"><b>Exercises 08<br>Score: 300</h3>"
   ]
  },
  {
   "cell_type": "markdown",
   "metadata": {},
   "source": [
    "<h5 style=\"background-color:#1765e3;text-align:left;border-radius:40px;border: 1px;padding: 10px;\"><b>1- (Dictionary) : Answer the following questions based on the dictionary topic.\n",
    "</h5>"
   ]
  },
  {
   "cell_type": "markdown",
   "metadata": {},
   "source": [
    "<h5>A) Create a product dictionary that contains the following information.</h5>"
   ]
  },
  {
   "cell_type": "code",
   "execution_count": 1,
   "metadata": {},
   "outputs": [
    {
     "data": {
      "text/plain": [
       "{'p_code': 1,\n",
       " 'p_name': 'Cheese',\n",
       " 'p_price': 1000,\n",
       " 'p_quantity': 2,\n",
       " 'p_sales_branch': 'kerman'}"
      ]
     },
     "execution_count": 1,
     "metadata": {},
     "output_type": "execute_result"
    }
   ],
   "source": [
    "product_dictionary={'p_code':1,\n",
    "                    'p_name':'Cheese',\n",
    "                    'p_price':1000,\n",
    "                    'p_quantity':2,\n",
    "                    'p_sales_branch':'kerman',\n",
    "                    }\n",
    "product_dictionary"
   ]
  },
  {
   "cell_type": "markdown",
   "metadata": {},
   "source": [
    "<h5>B) Get a number from the user and create a list of products as long as the entered number.</h5>"
   ]
  },
  {
   "cell_type": "code",
   "execution_count": 7,
   "metadata": {},
   "outputs": [
    {
     "name": "stdout",
     "output_type": "stream",
     "text": [
      "enter a number : 2\n",
      "enter product name : a\n",
      "enter product_price : 100\n",
      "enter product quantity : 3\n",
      "=========\n",
      "enter product name : b\n",
      "enter product_price : 300\n",
      "enter product quantity : 2\n",
      "=========\n"
     ]
    },
    {
     "data": {
      "text/plain": [
       "[[['p_code', 2],\n",
       "  ['p_name', 'a'],\n",
       "  ['p_price', '100'],\n",
       "  ['p_quantity', '3'],\n",
       "  ['p_sales_branch', 'kerman']],\n",
       " [['p_code', 1],\n",
       "  ['p_name', 'b'],\n",
       "  ['p_price', '300'],\n",
       "  ['p_quantity', '2'],\n",
       "  ['p_sales_branch', 'kerman']]]"
      ]
     },
     "execution_count": 7,
     "metadata": {},
     "output_type": "execute_result"
    }
   ],
   "source": [
    "number = int(input(\"enter a number : \"))\n",
    "product_list =[]\n",
    "while number !=0:\n",
    "    product_dictionary={'p_code':number,\n",
    "                    'p_name':input(\"enter product name : \"),\n",
    "                    'p_price':input(\"enter product_price : \"),\n",
    "                    'p_quantity':input(\"enter product quantity : \"),\n",
    "                    'p_sales_branch':'kerman',\n",
    "                    }\n",
    "    print('=========')\n",
    "    resultList = list(map(list, product_dictionary.items()))\n",
    "#     resultList = list(product_dictionary.items())\n",
    "    product_list.append(resultList)\n",
    "    \n",
    "    number -=1\n",
    "# resultList\n",
    "product_list"
   ]
  },
  {
   "cell_type": "markdown",
   "metadata": {},
   "source": [
    "<h5>C) Display the price of the first product.</h5>"
   ]
  },
  {
   "cell_type": "code",
   "execution_count": 11,
   "metadata": {},
   "outputs": [
    {
     "name": "stdout",
     "output_type": "stream",
     "text": [
      "price of the first product : 100\n"
     ]
    }
   ],
   "source": [
    "print(f'price of the first product : {product_list[0][2][1]}')"
   ]
  },
  {
   "cell_type": "markdown",
   "metadata": {},
   "source": [
    "<h5>D) Remove the branch from all products.</h5>"
   ]
  },
  {
   "cell_type": "code",
   "execution_count": 20,
   "metadata": {},
   "outputs": [
    {
     "data": {
      "text/plain": [
       "[[['p_code', 2], ['p_name', 'a'], ['p_price', '100'], ['p_quantity', '3']],\n",
       " [['p_code', 1], ['p_name', 'b'], ['p_price', '300'], ['p_quantity', '2']]]"
      ]
     },
     "execution_count": 20,
     "metadata": {},
     "output_type": "execute_result"
    }
   ],
   "source": [
    "for i in range(len(product_list)):\n",
    "    del product_list[i-1][-1]\n",
    "product_list"
   ]
  },
  {
   "cell_type": "markdown",
   "metadata": {},
   "source": [
    "<h5>E) Display product prices in a list in order.</h5>"
   ]
  },
  {
   "cell_type": "code",
   "execution_count": 24,
   "metadata": {},
   "outputs": [
    {
     "data": {
      "text/plain": [
       "['300', '100']"
      ]
     },
     "execution_count": 24,
     "metadata": {},
     "output_type": "execute_result"
    }
   ],
   "source": [
    "price_list = []\n",
    "for i in range(len(product_list)):\n",
    "    price_list.append(product_list[i-1][2][1])\n",
    "price_list"
   ]
  },
  {
   "cell_type": "markdown",
   "metadata": {},
   "source": [
    "<h5> F) Show average prices.</h5>"
   ]
  },
  {
   "cell_type": "code",
   "execution_count": 28,
   "metadata": {},
   "outputs": [
    {
     "name": "stdout",
     "output_type": "stream",
     "text": [
      "average prices : 200.0\n"
     ]
    }
   ],
   "source": [
    "for i in range(len(price_list)):\n",
    "    price_list[i] = int(price_list[i])\n",
    "\n",
    "print(f'average prices : {sum(price_list)/len(price_list)}')   "
   ]
  },
  {
   "cell_type": "code",
   "execution_count": null,
   "metadata": {},
   "outputs": [],
   "source": []
  }
 ],
 "metadata": {
  "kernelspec": {
   "display_name": "Python 3 (ipykernel)",
   "language": "python",
   "name": "python3"
  },
  "language_info": {
   "codemirror_mode": {
    "name": "ipython",
    "version": 3
   },
   "file_extension": ".py",
   "mimetype": "text/x-python",
   "name": "python",
   "nbconvert_exporter": "python",
   "pygments_lexer": "ipython3",
   "version": "3.9.13"
  }
 },
 "nbformat": 4,
 "nbformat_minor": 2
}
