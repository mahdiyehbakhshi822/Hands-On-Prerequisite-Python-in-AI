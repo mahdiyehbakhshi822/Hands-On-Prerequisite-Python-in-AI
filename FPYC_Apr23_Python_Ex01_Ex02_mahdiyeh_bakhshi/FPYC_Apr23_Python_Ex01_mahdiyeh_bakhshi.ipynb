{
 "cells": [
  {
   "cell_type": "markdown",
   "id": "3208289b",
   "metadata": {},
   "source": [
    "## Question 1 (Basics)\n",
    "For each of the following variables, first show the type of the variable, then change\n",
    "it to the requested type and show the type again."
   ]
  },
  {
   "cell_type": "markdown",
   "id": "dc07e5da",
   "metadata": {},
   "source": [
    " Use type()\n"
   ]
  },
  {
   "cell_type": "markdown",
   "id": "cf6e9752",
   "metadata": {},
   "source": [
    "• Change to float and integer:\n"
   ]
  },
  {
   "cell_type": "code",
   "execution_count": 3,
   "id": "ab3fb10f",
   "metadata": {},
   "outputs": [
    {
     "name": "stdout",
     "output_type": "stream",
     "text": [
      "12.6\n",
      "<class 'float'>\n",
      "12\n",
      "<class 'int'>\n"
     ]
    }
   ],
   "source": [
    "num1 = 12.6\n",
    "print(num1)\n",
    "print(type(num1))\n",
    "print(int(num1))\n",
    "print(type(int(num1)))"
   ]
  },
  {
   "cell_type": "code",
   "execution_count": 4,
   "id": "70b42d36",
   "metadata": {},
   "outputs": [
    {
     "name": "stdout",
     "output_type": "stream",
     "text": [
      "050\n",
      "<class 'str'>\n",
      "50\n",
      "<class 'int'>\n"
     ]
    }
   ],
   "source": [
    "num2 = \"050\"\n",
    "print(num2)\n",
    "print(type(num2))\n",
    "print(int(num2))\n",
    "print(type(int(num2)))\n"
   ]
  },
  {
   "cell_type": "code",
   "execution_count": 5,
   "id": "2b5dee1a",
   "metadata": {},
   "outputs": [
    {
     "name": "stdout",
     "output_type": "stream",
     "text": [
      "20.\n",
      "<class 'str'>\n",
      "20\n",
      "<class 'int'>\n"
     ]
    }
   ],
   "source": [
    "num3 = \"20.\"\n",
    "print(num3)\n",
    "print(type(num3))\n",
    "print(int(float(num3)))\n",
    "print(type(int(float(num3))))"
   ]
  },
  {
   "cell_type": "code",
   "execution_count": 6,
   "id": "9bc012d9",
   "metadata": {},
   "outputs": [
    {
     "name": "stdout",
     "output_type": "stream",
     "text": [
      "s98234\n",
      "<class 'str'>\n"
     ]
    },
    {
     "ename": "ValueError",
     "evalue": "invalid literal for int() with base 10: 's98234'",
     "output_type": "error",
     "traceback": [
      "\u001b[1;31m---------------------------------------------------------------------------\u001b[0m",
      "\u001b[1;31mValueError\u001b[0m                                Traceback (most recent call last)",
      "\u001b[1;32m~\\AppData\\Local\\Temp\\ipykernel_6976\\2819441161.py\u001b[0m in \u001b[0;36m<module>\u001b[1;34m\u001b[0m\n\u001b[0;32m      2\u001b[0m \u001b[0mprint\u001b[0m\u001b[1;33m(\u001b[0m\u001b[0mstudent_num\u001b[0m\u001b[1;33m)\u001b[0m\u001b[1;33m\u001b[0m\u001b[1;33m\u001b[0m\u001b[0m\n\u001b[0;32m      3\u001b[0m \u001b[0mprint\u001b[0m\u001b[1;33m(\u001b[0m\u001b[0mtype\u001b[0m\u001b[1;33m(\u001b[0m\u001b[0mstudent_num\u001b[0m\u001b[1;33m)\u001b[0m\u001b[1;33m)\u001b[0m\u001b[1;33m\u001b[0m\u001b[1;33m\u001b[0m\u001b[0m\n\u001b[1;32m----> 4\u001b[1;33m \u001b[0mprint\u001b[0m\u001b[1;33m(\u001b[0m\u001b[0mint\u001b[0m\u001b[1;33m(\u001b[0m\u001b[0mstudent_num\u001b[0m\u001b[1;33m)\u001b[0m\u001b[1;33m)\u001b[0m\u001b[1;33m\u001b[0m\u001b[1;33m\u001b[0m\u001b[0m\n\u001b[0m\u001b[0;32m      5\u001b[0m \u001b[0mprint\u001b[0m\u001b[1;33m(\u001b[0m\u001b[0mtype\u001b[0m\u001b[1;33m(\u001b[0m\u001b[0mint\u001b[0m\u001b[1;33m(\u001b[0m\u001b[0mstudent_num\u001b[0m\u001b[1;33m)\u001b[0m\u001b[1;33m)\u001b[0m\u001b[1;33m)\u001b[0m\u001b[1;33m\u001b[0m\u001b[1;33m\u001b[0m\u001b[0m\n",
      "\u001b[1;31mValueError\u001b[0m: invalid literal for int() with base 10: 's98234'"
     ]
    }
   ],
   "source": [
    "student_num = \"s98234\"\n",
    "print(student_num)\n",
    "print(type(student_num))\n",
    "print(int(student_num))\n",
    "print(type(int(student_num)))"
   ]
  },
  {
   "cell_type": "code",
   "execution_count": 7,
   "id": "44eda8f0",
   "metadata": {},
   "outputs": [
    {
     "name": "stdout",
     "output_type": "stream",
     "text": [
      "True\n",
      "<class 'bool'>\n",
      "1\n",
      "<class 'int'>\n"
     ]
    }
   ],
   "source": [
    "flag = True\n",
    "print(flag)\n",
    "print(type(flag))\n",
    "print(int(flag))\n",
    "print(type(int(flag)))"
   ]
  },
  {
   "cell_type": "markdown",
   "id": "9b0f6cc8",
   "metadata": {},
   "source": [
    "• Change to boolean:\n"
   ]
  },
  {
   "cell_type": "code",
   "execution_count": 8,
   "id": "1f99df80",
   "metadata": {},
   "outputs": [
    {
     "name": "stdout",
     "output_type": "stream",
     "text": [
      "-20\n",
      "<class 'int'>\n",
      "True\n",
      "<class 'bool'>\n"
     ]
    }
   ],
   "source": [
    "num1 = -20\n",
    "print(num1)\n",
    "print(type(num1))\n",
    "print(bool(num1))\n",
    "print(type(bool(num1)))"
   ]
  },
  {
   "cell_type": "code",
   "execution_count": 9,
   "id": "893e455c",
   "metadata": {},
   "outputs": [
    {
     "name": "stdout",
     "output_type": "stream",
     "text": [
      "0\n",
      "<class 'int'>\n",
      "False\n",
      "<class 'bool'>\n"
     ]
    }
   ],
   "source": [
    "num2 = 00\n",
    "print(num2)\n",
    "print(type(num2))\n",
    "print(bool(num2))\n",
    "print(type(bool(num2)))"
   ]
  },
  {
   "cell_type": "code",
   "execution_count": 10,
   "id": "71e7a7f5",
   "metadata": {},
   "outputs": [
    {
     "name": "stdout",
     "output_type": "stream",
     "text": [
      "False\n",
      "<class 'str'>\n",
      "True\n",
      "<class 'bool'>\n"
     ]
    }
   ],
   "source": [
    "flag = \"False\"\n",
    "print(flag)\n",
    "print(type(flag))\n",
    "print(bool(flag))\n",
    "print(type(bool(flag)))"
   ]
  },
  {
   "cell_type": "markdown",
   "id": "5cd36c47",
   "metadata": {},
   "source": [
    "## Question 2 (Basics)\n"
   ]
  },
  {
   "cell_type": "markdown",
   "id": "879b53a8",
   "metadata": {},
   "source": [
    "Display average of the following three variables in the output.\n"
   ]
  },
  {
   "cell_type": "code",
   "execution_count": 11,
   "id": "dadf54ef",
   "metadata": {},
   "outputs": [
    {
     "name": "stdout",
     "output_type": "stream",
     "text": [
      "average = 19.166666666666668\n"
     ]
    }
   ],
   "source": [
    "num1 = 20\n",
    "num2 = 19.\n",
    "num3 = \"18.5\"\n",
    "sum1 = float(num1)+float(num2)+float(num3)\n",
    "avg = sum1/3\n",
    "print(f\"average = {avg}\")"
   ]
  },
  {
   "cell_type": "markdown",
   "id": "cf9c97e9",
   "metadata": {},
   "source": [
    "## Question 3 (Basics)\n"
   ]
  },
  {
   "cell_type": "markdown",
   "id": "9b68e4ee",
   "metadata": {},
   "source": [
    "Define two variables with integer values, then display True if the first variable is\n",
    "greater than the second and display False if it is smaller."
   ]
  },
  {
   "cell_type": "markdown",
   "id": "389b0b66",
   "metadata": {},
   "source": [
    " Without use if\n"
   ]
  },
  {
   "cell_type": "code",
   "execution_count": 12,
   "id": "a8b04a12",
   "metadata": {},
   "outputs": [
    {
     "name": "stdout",
     "output_type": "stream",
     "text": [
      "please enter number1 : 5\n",
      "please enter number2 : 8\n",
      "False\n",
      "True\n"
     ]
    }
   ],
   "source": [
    "num1 = int(input(\"please enter number1 : \"))\n",
    "num2 = int(input(\"please enter number2 : \"))\n",
    "print(num1 > num2)\n",
    "print(num1 < num2)"
   ]
  },
  {
   "cell_type": "markdown",
   "id": "1593811a",
   "metadata": {},
   "source": [
    "with use if"
   ]
  },
  {
   "cell_type": "code",
   "execution_count": 13,
   "id": "90202867",
   "metadata": {},
   "outputs": [
    {
     "name": "stdout",
     "output_type": "stream",
     "text": [
      "False\n"
     ]
    }
   ],
   "source": [
    "num1 = 12 \n",
    "num2 = 32\n",
    "if num1 > num2:\n",
    "    print(True)\n",
    "else:\n",
    "    print(False)"
   ]
  },
  {
   "cell_type": "code",
   "execution_count": 14,
   "id": "831fd554",
   "metadata": {},
   "outputs": [
    {
     "name": "stdout",
     "output_type": "stream",
     "text": [
      "please enter number1 : 12\n",
      "please enter number2 : 25\n",
      "False\n"
     ]
    }
   ],
   "source": [
    "num1 = int(input(\"please enter number1 : \"))\n",
    "num2 = int(input(\"please enter number2 : \"))\n",
    "\n",
    "if num1 > num2:\n",
    "    print(True)\n",
    "else:\n",
    "    print(False)"
   ]
  },
  {
   "cell_type": "markdown",
   "id": "56e733e3",
   "metadata": {},
   "source": [
    "## Question 4 (Basics)\n"
   ]
  },
  {
   "cell_type": "markdown",
   "id": "5403a67c",
   "metadata": {},
   "source": [
    "By getting the length and width of a rectangle, calculate and display its perimeter\n",
    "and area"
   ]
  },
  {
   "cell_type": "code",
   "execution_count": 17,
   "id": "015544d1",
   "metadata": {},
   "outputs": [
    {
     "name": "stdout",
     "output_type": "stream",
     "text": [
      "please enter length : 3\n",
      "please enter width : 6\n",
      "perimeter = 18.0\n",
      "area = 18.0\n"
     ]
    }
   ],
   "source": [
    "length = float(input(\"please enter length : \"))\n",
    "width = float(input(\"please enter width : \"))\n",
    "perimeter = 2 * (length + width)\n",
    "area = length * width\n",
    "print(f\"perimeter = {perimeter}\")\n",
    "print(f\"area = {area}\")"
   ]
  },
  {
   "cell_type": "markdown",
   "id": "5d65d971",
   "metadata": {},
   "source": [
    "## Question 5 (Basics)\n"
   ]
  },
  {
   "cell_type": "markdown",
   "id": "45044c9a",
   "metadata": {},
   "source": [
    "In the figure below, calculate the area of the colored part by getting the radius of\n",
    "the circle."
   ]
  },
  {
   "cell_type": "code",
   "execution_count": 20,
   "id": "88720971",
   "metadata": {},
   "outputs": [
    {
     "name": "stdout",
     "output_type": "stream",
     "text": [
      "please enter radius : 4\n",
      " area of the colored  = 13.759999999999998\n"
     ]
    }
   ],
   "source": [
    "radius = float(input(\"please enter radius : \"))\n",
    "diameter = 2 * radius\n",
    "square = diameter ** 2 \n",
    "circle = 3.14 * (radius ** 2)\n",
    "area = square - circle\n",
    "print(f\" area of the colored  = {area}\")"
   ]
  },
  {
   "cell_type": "markdown",
   "id": "3e8b796a",
   "metadata": {},
   "source": [
    "## Question 6 (Basics)\n"
   ]
  },
  {
   "cell_type": "markdown",
   "id": "56579392",
   "metadata": {},
   "source": [
    "In the following three lines, display the value of num1, num2, num3.\n",
    "\n",
    "\n",
    "• If you have an error, explain the reason and fix the error.\n"
   ]
  },
  {
   "cell_type": "code",
   "execution_count": 22,
   "id": "f35918f1",
   "metadata": {},
   "outputs": [
    {
     "name": "stdout",
     "output_type": "stream",
     "text": [
      "200\n",
      "200\n",
      "200\n"
     ]
    }
   ],
   "source": [
    "\n",
    "num1 = num2 = num3 = 200\n",
    "print(num1)\n",
    "print(num2)\n",
    "print(num3)"
   ]
  },
  {
   "cell_type": "code",
   "execution_count": 23,
   "id": "0dc03e7b",
   "metadata": {},
   "outputs": [
    {
     "name": "stdout",
     "output_type": "stream",
     "text": [
      "10\n",
      "20\n",
      "145\n"
     ]
    }
   ],
   "source": [
    "num1 , num2 , num3 = 10, 20, 145\n",
    "print(num1)\n",
    "print(num2)\n",
    "print(num3)"
   ]
  },
  {
   "cell_type": "code",
   "execution_count": 24,
   "id": "f40492cd",
   "metadata": {},
   "outputs": [
    {
     "ename": "ValueError",
     "evalue": "not enough values to unpack (expected 3, got 2)",
     "output_type": "error",
     "traceback": [
      "\u001b[1;31m---------------------------------------------------------------------------\u001b[0m",
      "\u001b[1;31mValueError\u001b[0m                                Traceback (most recent call last)",
      "\u001b[1;32m~\\AppData\\Local\\Temp\\ipykernel_7464\\864358965.py\u001b[0m in \u001b[0;36m<module>\u001b[1;34m\u001b[0m\n\u001b[1;32m----> 1\u001b[1;33m \u001b[0mnum1\u001b[0m \u001b[1;33m,\u001b[0m \u001b[0mnum2\u001b[0m \u001b[1;33m,\u001b[0m \u001b[0mnum3\u001b[0m \u001b[1;33m=\u001b[0m \u001b[1;36m30\u001b[0m\u001b[1;33m,\u001b[0m \u001b[1;36m100\u001b[0m\u001b[1;33m\u001b[0m\u001b[1;33m\u001b[0m\u001b[0m\n\u001b[0m\u001b[0;32m      2\u001b[0m \u001b[0mprint\u001b[0m\u001b[1;33m(\u001b[0m\u001b[0mnum1\u001b[0m\u001b[1;33m)\u001b[0m\u001b[1;33m\u001b[0m\u001b[1;33m\u001b[0m\u001b[0m\n\u001b[0;32m      3\u001b[0m \u001b[0mprint\u001b[0m\u001b[1;33m(\u001b[0m\u001b[0mnum2\u001b[0m\u001b[1;33m)\u001b[0m\u001b[1;33m\u001b[0m\u001b[1;33m\u001b[0m\u001b[0m\n\u001b[0;32m      4\u001b[0m \u001b[0mprint\u001b[0m\u001b[1;33m(\u001b[0m\u001b[0mnum3\u001b[0m\u001b[1;33m)\u001b[0m\u001b[1;33m\u001b[0m\u001b[1;33m\u001b[0m\u001b[0m\n",
      "\u001b[1;31mValueError\u001b[0m: not enough values to unpack (expected 3, got 2)"
     ]
    }
   ],
   "source": [
    "#سه تا متغیر داریم ولی دوتا مقدار براشون داده شده  عملا یکی از متغیر ها مفدار دهی نشده \n",
    "num1 , num2 , num3 = 30, 100\n",
    "print(num1)\n",
    "print(num2)\n",
    "print(num3)"
   ]
  },
  {
   "cell_type": "code",
   "execution_count": 25,
   "id": "59b48214",
   "metadata": {},
   "outputs": [
    {
     "name": "stdout",
     "output_type": "stream",
     "text": [
      "30\n",
      "100\n",
      "200\n"
     ]
    }
   ],
   "source": [
    "# اصلاح\n",
    "num1 , num2 , num3 = 30, 100,200\n",
    "print(num1)\n",
    "print(num2)\n",
    "print(num3)"
   ]
  },
  {
   "cell_type": "code",
   "execution_count": null,
   "id": "ba981304",
   "metadata": {},
   "outputs": [],
   "source": []
  }
 ],
 "metadata": {
  "kernelspec": {
   "display_name": "Python 3 (ipykernel)",
   "language": "python",
   "name": "python3"
  },
  "language_info": {
   "codemirror_mode": {
    "name": "ipython",
    "version": 3
   },
   "file_extension": ".py",
   "mimetype": "text/x-python",
   "name": "python",
   "nbconvert_exporter": "python",
   "pygments_lexer": "ipython3",
   "version": "3.9.13"
  }
 },
 "nbformat": 4,
 "nbformat_minor": 5
}
