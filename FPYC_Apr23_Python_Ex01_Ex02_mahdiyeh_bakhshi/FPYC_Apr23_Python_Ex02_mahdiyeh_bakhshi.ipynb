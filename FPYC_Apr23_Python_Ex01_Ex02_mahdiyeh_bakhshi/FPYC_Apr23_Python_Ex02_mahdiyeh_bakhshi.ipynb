{
 "cells": [
  {
   "cell_type": "markdown",
   "id": "bc3f4e95",
   "metadata": {},
   "source": [
    "## Question 1 (Conditions)\n"
   ]
  },
  {
   "cell_type": "markdown",
   "id": "3b21c95b",
   "metadata": {},
   "source": [
    "Get a number from input and display its absolute value.\n"
   ]
  },
  {
   "cell_type": "code",
   "execution_count": 1,
   "id": "d2cc60c5",
   "metadata": {},
   "outputs": [
    {
     "name": "stdout",
     "output_type": "stream",
     "text": [
      "enter a number : 124\n",
      "124\n"
     ]
    }
   ],
   "source": [
    "num = input(\"enter a number : \" )\n",
    "print(num)"
   ]
  },
  {
   "cell_type": "markdown",
   "id": "889543e8",
   "metadata": {},
   "source": [
    "## Question 2 (Conditions)\n"
   ]
  },
  {
   "cell_type": "markdown",
   "id": "474c2155",
   "metadata": {},
   "source": [
    "Get three numbers from the user and display the number that is between the other\n",
    "two numbers in the output"
   ]
  },
  {
   "cell_type": "code",
   "execution_count": 5,
   "id": "40b63ac4",
   "metadata": {},
   "outputs": [
    {
     "name": "stdout",
     "output_type": "stream",
     "text": [
      "enter a number1 : 1\n",
      "enter a number2 : 2\n",
      "enter a number3 : 3\n",
      "2\n"
     ]
    }
   ],
   "source": [
    "num1 = int(input(\"enter a number1 : \" ))\n",
    "num2 = int(input(\"enter a number2 : \" ))\n",
    "num3 = int(input(\"enter a number3 : \" ))\n",
    "\n",
    "if num1 < num2 < num3:\n",
    "    print(num2)\n",
    "elif num3 < num1 < num2:\n",
    "    print(num1)\n",
    "else:\n",
    "    print(num3)"
   ]
  },
  {
   "cell_type": "markdown",
   "id": "0a5ddc04",
   "metadata": {},
   "source": [
    "## Question 3 (Conditions)\n"
   ]
  },
  {
   "cell_type": "markdown",
   "id": "b3cfbf8c",
   "metadata": {},
   "source": [
    "Define a username and password. Then get username and password from the user,\n",
    "if match the defined information, display a welcome message, and if the\n",
    "information is wrong, display one of the following messages.\n",
    "\n",
    "\n",
    "If the username was wrong: “The username entered is wrong”\n",
    "\n",
    "If the password was wrong: “The entered password is wrong”\n",
    "\n",
    "If the username and password were wrong: “the entered information is wrong”"
   ]
  },
  {
   "cell_type": "code",
   "execution_count": 7,
   "id": "a7c210b4",
   "metadata": {},
   "outputs": [
    {
     "name": "stdout",
     "output_type": "stream",
     "text": [
      "enter a username : mahi\n",
      "enter a password : 4567\n",
      "The entered password is wrong\n"
     ]
    }
   ],
   "source": [
    "user = \"mahi\"\n",
    "pas = \"1234\"\n",
    "username = input(\"enter a username : \" )\n",
    "password = input(\"enter a password : \" )\n",
    "\n",
    "if user == username and pas == password:\n",
    "    print(f\"welcome {username}\")\n",
    "elif user != username and pas == password:\n",
    "    print(\"The username entered is wrong\")\n",
    "elif user == username and pas != password:\n",
    "    print(\"The entered password is wrong\")\n",
    "else:\n",
    "    print(\"the entered information is wrong\")"
   ]
  },
  {
   "cell_type": "code",
   "execution_count": null,
   "id": "5556ea72",
   "metadata": {},
   "outputs": [],
   "source": []
  }
 ],
 "metadata": {
  "kernelspec": {
   "display_name": "Python 3 (ipykernel)",
   "language": "python",
   "name": "python3"
  },
  "language_info": {
   "codemirror_mode": {
    "name": "ipython",
    "version": 3
   },
   "file_extension": ".py",
   "mimetype": "text/x-python",
   "name": "python",
   "nbconvert_exporter": "python",
   "pygments_lexer": "ipython3",
   "version": "3.9.13"
  }
 },
 "nbformat": 4,
 "nbformat_minor": 5
}
