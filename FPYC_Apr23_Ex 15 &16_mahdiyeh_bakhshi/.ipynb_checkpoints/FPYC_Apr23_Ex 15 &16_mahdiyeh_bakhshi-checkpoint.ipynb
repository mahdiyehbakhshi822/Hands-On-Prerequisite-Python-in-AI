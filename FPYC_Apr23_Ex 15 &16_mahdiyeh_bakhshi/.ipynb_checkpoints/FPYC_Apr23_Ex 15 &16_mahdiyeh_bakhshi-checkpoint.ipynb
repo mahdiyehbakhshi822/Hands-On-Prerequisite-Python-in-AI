{
 "cells": [
  {
   "cell_type": "markdown",
   "metadata": {},
   "source": [
    "<div>\n",
    "<h2 style=\"background-color:Purple;text-align:center;border-radius:40px;border: 1px;padding: 20px; color:white\"><b>Filoger Hands On Prerequisite Python For AI <br>Exercises 15 & 16 | Deadline: 2023 07 June <br> Score: 1200</h2>\n",
    "</div>"
   ]
  },
  {
   "cell_type": "markdown",
   "metadata": {},
   "source": [
    "# Name"
   ]
  },
  {
   "cell_type": "markdown",
   "metadata": {},
   "source": [
    "# Mahdiyeh Bakhshi"
   ]
  },
  {
   "cell_type": "markdown",
   "metadata": {},
   "source": [
    "<h3 style=\"background-color:#ff3300\n",
    ";text-align:center;border-radius:40px;border: 1px;padding: 10px;color:white\"><b>Exercises 15<br>Score: 800</h3>"
   ]
  },
  {
   "cell_type": "markdown",
   "metadata": {},
   "source": [
    "<h5 style=\"background-color:#B100C2;text-align:left;border-radius:40px;border: 1px;padding: 10px;color:white\"><b>A- Write the school management project as follows.</h5>"
   ]
  },
  {
   "cell_type": "markdown",
   "metadata": {},
   "source": [
    "<h6 style=\"background-color:#1765e3;text-align:left;border-radius:40px;border: 1px;padding: 10px;color:white\"><b>1. The project includes two classes, school class and student class</h6>"
   ]
  },
  {
   "cell_type": "code",
   "execution_count": 9,
   "metadata": {},
   "outputs": [],
   "source": [
    "class School:\n",
    "    def __init__(self, name, location, principal):\n",
    "        self.name = name\n",
    "        self.location = location\n",
    "        self.principal = principal\n",
    "        self.students = []\n",
    "\n",
    "    def add_student(self, student):\n",
    "        self.students.append(student)\n",
    "\n",
    "    def remove_student(self, student):\n",
    "        self.students.remove(student)\n",
    "\n",
    "    def get_students(self):\n",
    "        return self.students\n",
    "\n",
    "    def get_info(self):\n",
    "        return f\"{self.name} School located in {self.location} and managed by {self.principal}\"\n",
    "\n",
    "class Student:\n",
    "    def __init__(self, name, age, grade):\n",
    "        self.name = name\n",
    "        self.age = age\n",
    "        self.grade = grade\n",
    "\n",
    "    def get_name(self):\n",
    "        return self.name\n",
    "\n",
    "    def get_age(self):\n",
    "        return self.age\n",
    "\n",
    "    def get_grade(self):\n",
    "        return self.grade\n",
    "\n",
    "    def set_grade(self, grade):\n",
    "        self.grade = grade\n",
    "\n",
    "    def get_info(self):\n",
    "        return f\"{self.name} is {self.age} years old and in grade {self.grade}\""
   ]
  },
  {
   "cell_type": "code",
   "execution_count": 10,
   "metadata": {},
   "outputs": [
    {
     "name": "stdout",
     "output_type": "stream",
     "text": [
      "ABC School School located in New York and managed by John Smith\n",
      "Students:\n",
      "Alice is 10 years old and in grade 4\n",
      "Bob is 11 years old and in grade 5\n",
      "Alice is 10 years old and in grade 5\n"
     ]
    }
   ],
   "source": [
    "school = School(\"ABC School\", \"New York\", \"John Smith\")\n",
    "student1 = Student(\"Alice\", 10, 4)\n",
    "student2 = Student(\"Bob\", 11, 5)\n",
    "\n",
    "school.add_student(student1)\n",
    "school.add_student(student2)\n",
    "\n",
    "print(school.get_info())\n",
    "print(\"Students:\")\n",
    "for student in school.get_students():\n",
    "    print(student.get_info())\n",
    "\n",
    "# تغییر پایه دانش آموز\n",
    "student1.set_grade(5)\n",
    "print(student1.get_info())"
   ]
  },
  {
   "cell_type": "markdown",
   "metadata": {},
   "source": [
    "<h6 style=\"background-color:#1765e3;text-align:left;border-radius:40px;border: 1px;padding: 10px;color:white\"><b>2. The school class contains two main attributes, a list to store students and a variable to specify\n",
    "the maximum number of students in the school</h6>"
   ]
  },
  {
   "cell_type": "code",
   "execution_count": 16,
   "metadata": {},
   "outputs": [],
   "source": [
    "class School:\n",
    "    def __init__(self, name, max_students):\n",
    "        self.name = name\n",
    "        self.max_students = max_students\n",
    "        self.students = []\n",
    "\n",
    "    def add_student(self, student):\n",
    "        if len(self.students) < self.max_students:\n",
    "            self.students.append(student)\n",
    "        else:\n",
    "            print(\"Cannot add student. Maximum number of students reached.\")\n",
    "\n",
    "    def remove_student(self, student):\n",
    "        self.students.remove(student)\n",
    "\n",
    "    def get_students(self):\n",
    "        return self.students\n",
    "\n",
    "    def get_name(self):\n",
    "        return self.name\n",
    "\n",
    "    def get_max_students(self):\n",
    "        return self.max_students"
   ]
  },
  {
   "cell_type": "code",
   "execution_count": 17,
   "metadata": {},
   "outputs": [
    {
     "name": "stdout",
     "output_type": "stream",
     "text": [
      "Cannot add student. Maximum number of students reached.\n"
     ]
    }
   ],
   "source": [
    "school = School(\"ABC School\", 2)\n",
    "\n",
    "student1 = Student(\"Alice\", 10, 4)\n",
    "student2 = Student(\"Bob\", 11, 5)\n",
    "student3 = Student(\"Charlie\", 9, 3)\n",
    "\n",
    "school.add_student(student1)\n",
    "school.add_student(student2)\n",
    "school.add_student(student3)"
   ]
  },
  {
   "cell_type": "code",
   "execution_count": 18,
   "metadata": {},
   "outputs": [
    {
     "name": "stdout",
     "output_type": "stream",
     "text": [
      "School name: ABC School\n",
      "Maximum number of students: 2\n",
      "Students:\n",
      "Alice\n",
      "Bob\n"
     ]
    }
   ],
   "source": [
    "print(\"School name:\", school.get_name())\n",
    "print(\"Maximum number of students:\", school.get_max_students())\n",
    "print(\"Students:\")\n",
    "for student in school.get_students():\n",
    "    print(student.get_name())"
   ]
  },
  {
   "cell_type": "markdown",
   "metadata": {},
   "source": [
    "<h6 style=\"background-color:#1765e3;text-align:left;border-radius:40px;border: 1px;padding: 10px;color:white\"><b>3. The students class must contain at least four attributes.</h6>"
   ]
  },
  {
   "cell_type": "code",
   "execution_count": 19,
   "metadata": {},
   "outputs": [],
   "source": [
    "class Student:\n",
    "    def __init__(self, name, age, grade_level, id_number):\n",
    "        self.name = name\n",
    "        self.age = age\n",
    "        self.grade_level = grade_level\n",
    "        self.id_number = id_number\n",
    "\n",
    "    def get_name(self):\n",
    "        return self.name\n",
    "\n",
    "    def get_age(self):\n",
    "        return self.age\n",
    "\n",
    "    def get_grade_level(self):\n",
    "        return self.grade_level\n",
    "\n",
    "    def get_id_number(self):\n",
    "        return self.id_number"
   ]
  },
  {
   "cell_type": "code",
   "execution_count": 20,
   "metadata": {},
   "outputs": [
    {
     "name": "stdout",
     "output_type": "stream",
     "text": [
      "Name: Alice\n",
      "Age: 10\n",
      "Grade level: 4\n",
      "ID number: 1234\n"
     ]
    }
   ],
   "source": [
    "student = Student(\"Alice\", 10, 4, \"1234\")\n",
    "\n",
    "print(\"Name:\", student.get_name())\n",
    "print(\"Age:\", student.get_age())\n",
    "print(\"Grade level:\", student.get_grade_level())\n",
    "print(\"ID number:\", student.get_id_number())"
   ]
  },
  {
   "cell_type": "code",
   "execution_count": 21,
   "metadata": {},
   "outputs": [
    {
     "name": "stdout",
     "output_type": "stream",
     "text": [
      "New name: Bob\n"
     ]
    }
   ],
   "source": [
    "student.name = \"Bob\"\n",
    "print(\"New name:\", student.get_name())"
   ]
  },
  {
   "cell_type": "markdown",
   "metadata": {},
   "source": [
    "<h6 style=\"background-color:#1765e3;text-align:left;border-radius:40px;border: 1px;padding: 10px;color:white\"><b>4. One of the attribute of each student is the student number, which we do not have duplicates.</h6>"
   ]
  },
  {
   "cell_type": "code",
   "execution_count": 36,
   "metadata": {},
   "outputs": [],
   "source": [
    "class Student:\n",
    "    # Class variable to keep track of used student numbers\n",
    "    used_ids = set()\n",
    "\n",
    "    def __init__(self, name, age, grade_level, id_number):\n",
    "        if id_number in Student.used_ids:\n",
    "            raise ValueError(\"Duplicate student number\")\n",
    "        self.name = name\n",
    "        self.age = age\n",
    "        self.grade_level = grade_level\n",
    "        self.id_number = id_number\n",
    "        Student.used_ids.add(id_number)\n",
    "\n",
    "    def get_name(self):\n",
    "        return self.name\n",
    "\n",
    "    def get_age(self):\n",
    "        return self.age\n",
    "\n",
    "    def get_grade_level(self):\n",
    "        return self.grade_level\n",
    "\n",
    "    def get_id_number(self):\n",
    "        return self.id_number"
   ]
  },
  {
   "cell_type": "code",
   "execution_count": 23,
   "metadata": {},
   "outputs": [],
   "source": [
    "student1 = Student(\"Alice\", 10, 4, \"1234\")\n",
    "student2 = Student(\"Bob\", 11, 5, \"5678\")\n",
    "student3 = Student(\"Charlie\", 9, 3, \"9012\")"
   ]
  },
  {
   "cell_type": "code",
   "execution_count": 24,
   "metadata": {},
   "outputs": [
    {
     "ename": "ValueError",
     "evalue": "Duplicate student number",
     "output_type": "error",
     "traceback": [
      "\u001b[1;31m---------------------------------------------------------------------------\u001b[0m",
      "\u001b[1;31mValueError\u001b[0m                                Traceback (most recent call last)",
      "\u001b[1;32m~\\AppData\\Local\\Temp\\ipykernel_2376\\590398197.py\u001b[0m in \u001b[0;36m<module>\u001b[1;34m\u001b[0m\n\u001b[1;32m----> 1\u001b[1;33m \u001b[0mstudent4\u001b[0m \u001b[1;33m=\u001b[0m \u001b[0mStudent\u001b[0m\u001b[1;33m(\u001b[0m\u001b[1;34m\"David\"\u001b[0m\u001b[1;33m,\u001b[0m \u001b[1;36m12\u001b[0m\u001b[1;33m,\u001b[0m \u001b[1;36m6\u001b[0m\u001b[1;33m,\u001b[0m \u001b[1;34m\"1234\"\u001b[0m\u001b[1;33m)\u001b[0m  \u001b[1;31m# Raises ValueError: Duplicate student number\u001b[0m\u001b[1;33m\u001b[0m\u001b[1;33m\u001b[0m\u001b[0m\n\u001b[0m",
      "\u001b[1;32m~\\AppData\\Local\\Temp\\ipykernel_2376\\1306672114.py\u001b[0m in \u001b[0;36m__init__\u001b[1;34m(self, name, age, grade_level, id_number)\u001b[0m\n\u001b[0;32m      5\u001b[0m     \u001b[1;32mdef\u001b[0m \u001b[0m__init__\u001b[0m\u001b[1;33m(\u001b[0m\u001b[0mself\u001b[0m\u001b[1;33m,\u001b[0m \u001b[0mname\u001b[0m\u001b[1;33m,\u001b[0m \u001b[0mage\u001b[0m\u001b[1;33m,\u001b[0m \u001b[0mgrade_level\u001b[0m\u001b[1;33m,\u001b[0m \u001b[0mid_number\u001b[0m\u001b[1;33m)\u001b[0m\u001b[1;33m:\u001b[0m\u001b[1;33m\u001b[0m\u001b[1;33m\u001b[0m\u001b[0m\n\u001b[0;32m      6\u001b[0m         \u001b[1;32mif\u001b[0m \u001b[0mid_number\u001b[0m \u001b[1;32min\u001b[0m \u001b[0mStudent\u001b[0m\u001b[1;33m.\u001b[0m\u001b[0mused_ids\u001b[0m\u001b[1;33m:\u001b[0m\u001b[1;33m\u001b[0m\u001b[1;33m\u001b[0m\u001b[0m\n\u001b[1;32m----> 7\u001b[1;33m             \u001b[1;32mraise\u001b[0m \u001b[0mValueError\u001b[0m\u001b[1;33m(\u001b[0m\u001b[1;34m\"Duplicate student number\"\u001b[0m\u001b[1;33m)\u001b[0m\u001b[1;33m\u001b[0m\u001b[1;33m\u001b[0m\u001b[0m\n\u001b[0m\u001b[0;32m      8\u001b[0m         \u001b[0mself\u001b[0m\u001b[1;33m.\u001b[0m\u001b[0mname\u001b[0m \u001b[1;33m=\u001b[0m \u001b[0mname\u001b[0m\u001b[1;33m\u001b[0m\u001b[1;33m\u001b[0m\u001b[0m\n\u001b[0;32m      9\u001b[0m         \u001b[0mself\u001b[0m\u001b[1;33m.\u001b[0m\u001b[0mage\u001b[0m \u001b[1;33m=\u001b[0m \u001b[0mage\u001b[0m\u001b[1;33m\u001b[0m\u001b[1;33m\u001b[0m\u001b[0m\n",
      "\u001b[1;31mValueError\u001b[0m: Duplicate student number"
     ]
    }
   ],
   "source": [
    "student4 = Student(\"David\", 12, 6, \"1234\")  # Raises ValueError: Duplicate student number"
   ]
  },
  {
   "cell_type": "markdown",
   "metadata": {},
   "source": [
    "<h6 style=\"background-color:#1765e3;text-align:left;border-radius:40px;border: 1px;padding: 10px;color:white\"><b>5. In this project, we should be able to display the operations of adding, deleting, editing,\n",
    "displaying the information of all students and searching for students in the school.</h6>"
   ]
  },
  {
   "cell_type": "code",
   "execution_count": 38,
   "metadata": {},
   "outputs": [],
   "source": [
    "class School:\n",
    "    def __init__(self):\n",
    "        self.students = []\n",
    "\n",
    "    def add_student(self, student):\n",
    "        self.students.append(student)\n",
    "\n",
    "    def remove_student(self, student_id):\n",
    "        for student in self.students:\n",
    "            if student.get_id_number() == student_id:\n",
    "                self.students.remove(student)\n",
    "                return True\n",
    "        return False\n",
    "\n",
    "    def edit_student(self, student_id, name=None, grade_level=None):\n",
    "        for student in self.students:\n",
    "            if student.get_id_number() == student_id:\n",
    "                if name:\n",
    "                    student.set_name(name)\n",
    "                if grade_level:\n",
    "                    student.set_grade_level(grade_level)\n",
    "                return True\n",
    "        return False\n",
    "\n",
    "    def display_all_students(self):\n",
    "        for student in self.students:\n",
    "            print(f\"{student.get_name()} (Grade {student.get_grade_level()}, ID: {student.get_id_number()})\")\n",
    "\n",
    "    def search_student(self, name=None):\n",
    "        if name:\n",
    "            return [student for student in self.students if student.get_name() == name]\n",
    "        else:\n",
    "            return []"
   ]
  },
  {
   "cell_type": "code",
   "execution_count": 35,
   "metadata": {},
   "outputs": [],
   "source": []
  },
  {
   "cell_type": "code",
   "execution_count": 31,
   "metadata": {},
   "outputs": [
    {
     "name": "stdout",
     "output_type": "stream",
     "text": [
      "Alice (Grade 4, ID: 1234)\n",
      "Bob (Grade 5, ID: 5678)\n",
      "Charlie (Grade 3, ID: 9012)\n",
      "Bob (Grade 5, ID: 5678)\n",
      "Alicia (Grade 5, ID: 1234)\n"
     ]
    }
   ],
   "source": [
    "# Create some Student objects\n",
    "student1 = Student(\"Alice\", 10, 4, \"1234\")\n",
    "student2 = Student(\"Bob\", 11, 5, \"5678\")\n",
    "student3 = Student(\"Charlie\", 9, 3, \"9012\")\n",
    "\n",
    "# Create a School object and add the students\n",
    "school = School()\n",
    "school.add_student(student1)\n",
    "school.add_student(student2)\n",
    "school.add_student(student3)\n",
    "\n",
    "# Get all students\n",
    "all_students = school.get_all_students()\n",
    "for student in all_students:\n",
    "    print(f\"{student.get_name()} (Grade {student.get_grade_level()}, ID: {student.get_id_number()})\")\n",
    "\n",
    "# Edit a student\n",
    "school.edit_student(student1, name=\"Alicia\", grade_level=5)\n",
    "\n",
    "# Search for a student by name\n",
    "matching_students = school.search_student(name=\"Bob\")\n",
    "for student in matching_students:\n",
    "    print(f\"{student.get_name()} (Grade {student.get_grade_level()}, ID: {student.get_id_number()})\")\n",
    "\n",
    "# Search for a student by ID number\n",
    "matching_students = school.search_student(id_number=\"1234\")\n",
    "for student in matching_students:\n",
    "    print(f\"{student.get_name()} (Grade {student.get_grade_level()}, ID: {student.get_id_number()})\")\n",
    "\n",
    "# Remove a student\n",
    "school.remove_student(student3)"
   ]
  },
  {
   "cell_type": "markdown",
   "metadata": {},
   "source": [
    "<h6 style=\"background-color:#1765e3;text-align:left;border-radius:40px;border: 1px;padding: 10px;color:white\"><b>6. Searching should be based on name (if there are multiple students with the same name, all of\n",
    "them will be displayed)</h6>"
   ]
  },
  {
   "cell_type": "code",
   "execution_count": 32,
   "metadata": {},
   "outputs": [],
   "source": [
    "\n",
    "        \n",
    "class School:\n",
    "    def __init__(self):\n",
    "        self.students = []\n",
    "\n",
    "    def add_student(self, student):\n",
    "        self.students.append(student)\n",
    "\n",
    "    def remove_student(self, student):\n",
    "        self.students.remove(student)\n",
    "\n",
    "    def edit_student(self, student, name=None, age=None, grade_level=None):\n",
    "        if name:\n",
    "            student.name = name\n",
    "        if age:\n",
    "            student.age = age\n",
    "        if grade_level:\n",
    "            student.grade_level = grade_level\n",
    "\n",
    "    def get_all_students(self):\n",
    "        return self.students\n",
    "\n",
    "#     def search_student(self, name=None, id_number=None):\n",
    "#         if name:\n",
    "#             return [student for student in self.students if student.get_name() == name]\n",
    "#         elif id_number:\n",
    "#             return [student for student in self.students if student.get_id_number() == id_number]\n",
    "#         else:\n",
    "#             return []\n",
    "        \n",
    "    def search_student(self, name=None):\n",
    "        if name:\n",
    "            return [student for student in self.students if student.get_name() == name]\n",
    "        else:\n",
    "            return []"
   ]
  },
  {
   "cell_type": "code",
   "execution_count": 37,
   "metadata": {},
   "outputs": [],
   "source": [
    "# Create some Student objects\n",
    "student1 = Student(\"Alice\", 10, 4, \"1234\")\n",
    "student2 = Student(\"Bob\", 11, 5, \"5678\")\n",
    "student3 = Student(\"Charlie\", 9, 3, \"9012\")\n",
    "student4 = Student(\"Alice\", 12, 6, \"3456\")\n",
    "\n",
    "# Create a School object and add the students\n",
    "school = School()\n",
    "# school.add_student(student1)\n",
    "# school.add_student(student2)\n",
    "# school.add_student(student3)\n",
    "# school.add_student(student4)\n",
    "\n",
    "# Search for students by name\n",
    "matching_students = school.search_student(name=\"Alice\")\n",
    "for student in matching_students:\n",
    "    print(f\"{student.get_name()} (Grade {student.get_grade_level()}, ID: {student.get_id_number()})\")"
   ]
  },
  {
   "cell_type": "markdown",
   "metadata": {},
   "source": [
    "<h6 style=\"background-color:#1765e3;text-align:left;border-radius:40px;border: 1px;padding: 10px;color:white\"><b>7. The program should continue until the user enters \"exit\".</h6>"
   ]
  },
  {
   "cell_type": "code",
   "execution_count": null,
   "metadata": {},
   "outputs": [],
   "source": [
    "# Create some Student objects\n",
    "student1 = Student(\"Alice\", 10, 4, \"1234\")\n",
    "student2 = Student(\"Bob\", 11, 5, \"5678\")\n",
    "student3 = Student(\"Charlie\", 9, 3, \"9012\")\n",
    "student4 = Student(\"Alice\", 12, 6, \"3456\")\n",
    "\n",
    "# Create a School object and add the students\n",
    "school = School()\n",
    "school.add_student(student1)\n",
    "school.add_student(student2)\n",
    "school.add_student(student3)\n",
    "school.add_student(student4)\n",
    "\n",
    "# Main program loop\n",
    "while True:\n",
    "    # Get user input\n",
    "    user_input = input(\"Enter a name to search for a student (or 'exit' to quit): \")\n",
    "\n",
    "    # Check for exit condition\n",
    "    if user_input == 'exit':\n",
    "        break\n",
    "\n",
    "    # Search for students by name\n",
    "    matching_students = school.search_student(name=user_input)\n",
    "    if len(matching_students) == 0:\n",
    "        print(\"No matching students found.\")\n",
    "    else:\n",
    "        for student in matching_students:\n",
    "            print(f\"{student.get_name()} (Grade {student.get_grade_level()}, ID: {student.get_id_number()})\")"
   ]
  },
  {
   "cell_type": "markdown",
   "metadata": {},
   "source": [
    "<h3 style=\"background-color:#ff3300\n",
    ";text-align:center;border-radius:40px;border: 1px;padding: 10px;color:white\"><b>Exercise 16<br>Score: 400</h3>"
   ]
  },
  {
   "cell_type": "markdown",
   "metadata": {},
   "source": [
    "<h5 style=\"background-color:#B100C2;text-align:left;border-radius:40px;border: 1px;padding: 10px;color:white\"><b>Write sample codes for Inheritance, Encapsulation, Polymorphism, and\n",
    "Abstraction in Object-Oriented Programming.</h5>"
   ]
  },
  {
   "cell_type": "code",
   "execution_count": 1,
   "metadata": {},
   "outputs": [
    {
     "name": "stdout",
     "output_type": "stream",
     "text": [
      "Rufus\n",
      "2\n",
      "Woof!\n",
      "Meow!\n"
     ]
    }
   ],
   "source": [
    "# Inheritance\n",
    "class Animal:\n",
    "    '''\n",
    "    Inheritance is a mechanism in which a new class is derived from an existing class.\n",
    "    The new class inherits the properties and behaviors of the existing class and can also add new feature\n",
    "    '''\n",
    "    def __init__(self, name, age):\n",
    "        self.name = name\n",
    "        self.age = age\n",
    "\n",
    "    def speak(self):\n",
    "        pass\n",
    "\n",
    "class Dog(Animal):\n",
    "    def speak(self):\n",
    "        return \"Woof!\"\n",
    "\n",
    "class Cat(Animal):\n",
    "    def speak(self):\n",
    "        return \"Meow!\"\n",
    "\n",
    "dog = Dog(\"Rufus\", 3)\n",
    "cat = Cat(\"Fluffy\", 2)\n",
    "\n",
    "print(dog.name) \n",
    "print(cat.age)   \n",
    "print(dog.speak())  \n",
    "print(cat.speak())  \n",
    "\n"
   ]
  },
  {
   "cell_type": "code",
   "execution_count": 2,
   "metadata": {},
   "outputs": [
    {
     "name": "stdout",
     "output_type": "stream",
     "text": [
      "1300\n"
     ]
    }
   ],
   "source": [
    "# Encapsulation\n",
    "class BankAccount:\n",
    "    '''\n",
    "    Encapsulation is the practice of hiding the internal workings of an object \n",
    "    from the outside world and providing a public\n",
    "    interface for interacting with the object. \n",
    "    This helps to prevent unintended modification of an object's state and ensures\n",
    "    that the object behaves consistently.\n",
    "    '''\n",
    "    def __init__(self, balance):\n",
    "        self.__balance = balance\n",
    "\n",
    "    def deposit(self, amount):\n",
    "        self.__balance += amount\n",
    "\n",
    "    def withdraw(self, amount):\n",
    "        if amount > self.__balance:\n",
    "            print(\"Insufficient funds\")\n",
    "        else:\n",
    "            self.__balance -= amount\n",
    "\n",
    "    def get_balance(self):\n",
    "        return self.__balance\n",
    "\n",
    "account = BankAccount(1000)\n",
    "account.deposit(500)\n",
    "account.withdraw(200)\n",
    "print(account.get_balance())  # Output: 1300\n",
    "\n"
   ]
  },
  {
   "cell_type": "code",
   "execution_count": 5,
   "metadata": {},
   "outputs": [
    {
     "name": "stdout",
     "output_type": "stream",
     "text": [
      "20\n",
      "28.26\n"
     ]
    }
   ],
   "source": [
    "# Polymorphism\n",
    "class Shape:\n",
    "    '''\n",
    "    Polymorphism is the ability of objects of different classes to be treated as if they were of the same class,\n",
    "    while still maintaining their unique behavior. \n",
    "    This allows for more flexible and reusable code. \n",
    "    '''\n",
    "    def area(self):\n",
    "        pass\n",
    "\n",
    "class Rectangle(Shape):\n",
    "    def __init__(self, width, height):\n",
    "        self.width = width\n",
    "        self.height = height\n",
    "\n",
    "    def area(self):\n",
    "        return self.width * self.height\n",
    "\n",
    "class Circle(Shape):\n",
    "    def __init__(self, radius):\n",
    "        self.radius = radius\n",
    "\n",
    "    def area(self):\n",
    "        return 3.14 * self.radius ** 2\n",
    "\n",
    "shapes = [Rectangle(4, 5), Circle(3)]\n",
    "for shape in shapes:\n",
    "    print(shape.area())"
   ]
  },
  {
   "cell_type": "code",
   "execution_count": 8,
   "metadata": {},
   "outputs": [
    {
     "name": "stdout",
     "output_type": "stream",
     "text": [
      "The car is driving.\n",
      "The sports car is driving at high speed.\n",
      "The truck is driving slowly.\n"
     ]
    }
   ],
   "source": [
    "# Polymorphism\n",
    "class Car:\n",
    "    def __init__(self, make, model):\n",
    "        self.make = make\n",
    "        self.model = model\n",
    "\n",
    "    def drive(self):\n",
    "        print(\"The car is driving.\")\n",
    "\n",
    "class SportsCar(Car):\n",
    "    def drive(self):\n",
    "        print(\"The sports car is driving at high speed.\")\n",
    "\n",
    "class Truck(Car):\n",
    "    def drive(self):\n",
    "        print(\"The truck is driving slowly.\")\n",
    "\n",
    "def drive_car(car):\n",
    "    car.drive()\n",
    "\n",
    "my_car = Car(\"Toyota\", \"Camry\")\n",
    "my_sports_car = SportsCar(\"Ferrari\", \"458 Italia\")\n",
    "my_truck = Truck(\"Ford\", \"F-150\")\n",
    "\n",
    "drive_car(my_car)\n",
    "drive_car(my_sports_car)\n",
    "drive_car(my_truck)\n"
   ]
  },
  {
   "cell_type": "code",
   "execution_count": 6,
   "metadata": {},
   "outputs": [
    {
     "name": "stdout",
     "output_type": "stream",
     "text": [
      "Starting car engine\n",
      "Starting motorcycle engine\n"
     ]
    }
   ],
   "source": [
    "# Abstraction\n",
    "from abc import ABC, abstractmethod\n",
    "\n",
    "class Vehicle(ABC):\n",
    "    '''\n",
    "    Abstraction is the process of hiding complex implementation details while exposing a \n",
    "    simple interface for users to interact with.\n",
    "    This allows users to interact with an object without needing to know the details of its implementation\n",
    "    '''\n",
    "    @abstractmethod\n",
    "    def start_engine(self):\n",
    "        pass\n",
    "\n",
    "class Car(Vehicle):\n",
    "    def start_engine(self):\n",
    "        print(\"Starting car engine\")\n",
    "\n",
    "class Motorcycle(Vehicle):\n",
    "    def start_engine(self):\n",
    "        print(\"Starting motorcycle engine\")\n",
    "\n",
    "vehicles = [Car(), Motorcycle()]\n",
    "for vehicle in vehicles:\n",
    "    vehicle.start_engine()"
   ]
  }
 ],
 "metadata": {
  "kernelspec": {
   "display_name": "Python 3 (ipykernel)",
   "language": "python",
   "name": "python3"
  },
  "language_info": {
   "codemirror_mode": {
    "name": "ipython",
    "version": 3
   },
   "file_extension": ".py",
   "mimetype": "text/x-python",
   "name": "python",
   "nbconvert_exporter": "python",
   "pygments_lexer": "ipython3",
   "version": "3.9.13"
  }
 },
 "nbformat": 4,
 "nbformat_minor": 4
}
